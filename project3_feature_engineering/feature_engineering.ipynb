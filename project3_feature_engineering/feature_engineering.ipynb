{
  "cells": [
    {
      "cell_type": "code",
      "execution_count": 131,
      "metadata": {
        "colab": {
          "base_uri": "https://localhost:8080/"
        },
        "id": "DgdI5slscsMn",
        "outputId": "94f8f2b3-b7ea-4bf0-9925-e22c5e95776b"
      },
      "outputs": [
        {
          "output_type": "stream",
          "name": "stdout",
          "text": [
            "Requirement already satisfied: pyspark in /usr/local/lib/python3.10/dist-packages (3.5.0)\n",
            "Requirement already satisfied: py4j==0.10.9.7 in /usr/local/lib/python3.10/dist-packages (from pyspark) (0.10.9.7)\n",
            "Requirement already satisfied: datetime in /usr/local/lib/python3.10/dist-packages (5.2)\n",
            "Requirement already satisfied: zope.interface in /usr/local/lib/python3.10/dist-packages (from datetime) (6.1)\n",
            "Requirement already satisfied: pytz in /usr/local/lib/python3.10/dist-packages (from datetime) (2023.3.post1)\n",
            "Requirement already satisfied: setuptools in /usr/local/lib/python3.10/dist-packages (from zope.interface->datetime) (67.7.2)\n"
          ]
        }
      ],
      "source": [
        "!pip install pyspark\n",
        "!pip install datetime"
      ]
    },
    {
      "cell_type": "code",
      "execution_count": 180,
      "metadata": {
        "id": "6-LZWNRRcRBJ"
      },
      "outputs": [],
      "source": [
        "from pyspark.sql import SparkSession\n",
        "from pyspark.sql.types import MapType,StringType\n",
        "from pyspark.sql.functions import from_json\n",
        "import pandas as pd\n",
        "import datetime\n",
        "import numpy as np\n",
        "from sklearn.preprocessing import MinMaxScaler"
      ]
    },
    {
      "cell_type": "code",
      "execution_count": 133,
      "metadata": {
        "id": "dOhBEXjudR2g"
      },
      "outputs": [],
      "source": [
        "df = pd.read_excel(\"/content/Intermediate_Task.xlsx\")"
      ]
    },
    {
      "cell_type": "code",
      "execution_count": 134,
      "metadata": {
        "colab": {
          "base_uri": "https://localhost:8080/"
        },
        "id": "_3tokUjcdbyf",
        "outputId": "b05aafbf-7530-4b74-939c-2a1f65a2c318"
      },
      "outputs": [
        {
          "output_type": "stream",
          "name": "stdout",
          "text": [
            "Permit Number                              object\n",
            "Permit Type                                 int64\n",
            "Permit Type Definition                     object\n",
            "Permit Creation Date                       object\n",
            "Block                                      object\n",
            "Lot                                        object\n",
            "Street Number                               int64\n",
            "Street Number Suffix                       object\n",
            "Street Name                                object\n",
            "Street Suffix                              object\n",
            "Unit                                      float64\n",
            "Unit Suffix                                object\n",
            "Description                                object\n",
            "Current Status                             object\n",
            "Current Status Date                        object\n",
            "Filed Date                                 object\n",
            "Issued Date                                object\n",
            "Completed Date                             object\n",
            "First Construction Document Date           object\n",
            "Structural Notification                    object\n",
            "Number of Existing Stories                float64\n",
            "Number of Proposed Stories                float64\n",
            "Voluntary Soft-Story Retrofit              object\n",
            "Fire Only Permit                           object\n",
            "Permit Expiration Date                     object\n",
            "Estimated Cost                            float64\n",
            "Revised Cost                              float64\n",
            "Existing Use                               object\n",
            "Existing Units                            float64\n",
            "Proposed Use                               object\n",
            "Proposed Units                            float64\n",
            "Plansets                                  float64\n",
            "TIDF Compliance                           float64\n",
            "Existing Construction Type                float64\n",
            "Existing Construction Type Description     object\n",
            "Proposed Construction Type                float64\n",
            "Proposed Construction Type Description     object\n",
            "Site Permit                                object\n",
            "Supervisor District                       float64\n",
            "Neighborhoods - Analysis Boundaries        object\n",
            "Zipcode                                   float64\n",
            "Location                                   object\n",
            "Record ID                                 float64\n",
            "dtype: object\n"
          ]
        }
      ],
      "source": [
        "print(df.dtypes)"
      ]
    },
    {
      "cell_type": "code",
      "execution_count": 135,
      "metadata": {
        "colab": {
          "base_uri": "https://localhost:8080/"
        },
        "id": "7Agj97Zidh60",
        "outputId": "8c4f2937-5201-490f-92f4-01ff5a00b7c0"
      },
      "outputs": [
        {
          "output_type": "execute_result",
          "data": {
            "text/plain": [
              "(15364, 43)"
            ]
          },
          "metadata": {},
          "execution_count": 135
        }
      ],
      "source": [
        "df.shape"
      ]
    },
    {
      "cell_type": "code",
      "execution_count": 136,
      "metadata": {
        "colab": {
          "base_uri": "https://localhost:8080/",
          "height": 429
        },
        "id": "Y78RFrLFdsuZ",
        "outputId": "68d530b0-d1af-4b3f-a05e-4729e58c5ec8"
      },
      "outputs": [
        {
          "output_type": "execute_result",
          "data": {
            "text/plain": [
              "  Permit Number  Permit Type            Permit Type Definition  \\\n",
              "0   2.01505E+11            4                      sign - erect   \n",
              "1   2.01604E+11            4                      sign - erect   \n",
              "2   2.01605E+11            3  additions alterations or repairs   \n",
              "3   2.01611E+11            8            otc alterations permit   \n",
              "4   2.01611E+11            6                       demolitions   \n",
              "\n",
              "  Permit Creation Date Block  Lot  Street Number Street Number Suffix  \\\n",
              "0           05/06/2015   326   23            140                  NaN   \n",
              "1           04/19/2016   306    7            440                  NaN   \n",
              "2           05/27/2016   595  203           1647                  NaN   \n",
              "3           11/07/2016   156   11           1230                  NaN   \n",
              "4           11/28/2016   342    1            950                  NaN   \n",
              "\n",
              "  Street Name Street Suffix  ...  Existing Construction Type  \\\n",
              "0       Ellis            St  ...                         3.0   \n",
              "1       Geary            St  ...                         3.0   \n",
              "2     Pacific            Av  ...                         1.0   \n",
              "3     Pacific            Av  ...                         5.0   \n",
              "4      Market            St  ...                         3.0   \n",
              "\n",
              "  Existing Construction Type Description Proposed Construction Type  \\\n",
              "0                          constr type 3                        NaN   \n",
              "1                          constr type 3                        NaN   \n",
              "2                          constr type 1                        1.0   \n",
              "3                         wood frame (5)                        5.0   \n",
              "4                          constr type 3                        NaN   \n",
              "\n",
              "  Proposed Construction Type Description Site Permit Supervisor District  \\\n",
              "0                                    NaN         NaN                 3.0   \n",
              "1                                    NaN         NaN                 3.0   \n",
              "2                          constr type 1         NaN                 3.0   \n",
              "3                         wood frame (5)         NaN                 3.0   \n",
              "4                                    NaN         NaN                 6.0   \n",
              "\n",
              "  Neighborhoods - Analysis Boundaries  Zipcode  \\\n",
              "0                          Tenderloin  94102.0   \n",
              "1                          Tenderloin  94102.0   \n",
              "2                        Russian Hill  94109.0   \n",
              "3                            Nob Hill  94109.0   \n",
              "4                          Tenderloin  94102.0   \n",
              "\n",
              "                                    Location     Record ID  \n",
              "0  (37.785719256680785, -122.40852313194863)  1.380610e+12  \n",
              "1   (37.78733980600732, -122.41063199757738)  1.420160e+12  \n",
              "2    (37.7946573324287, -122.42232562979227)  1.424860e+12  \n",
              "3   (37.79595867909168, -122.41557405519474)  1.443570e+12  \n",
              "4   (37.78315261897309, -122.40950883997789)  1.445480e+11  \n",
              "\n",
              "[5 rows x 43 columns]"
            ],
            "text/html": [
              "\n",
              "  <div id=\"df-1b4f6825-e649-4e9f-b419-de68df3209a0\" class=\"colab-df-container\">\n",
              "    <div>\n",
              "<style scoped>\n",
              "    .dataframe tbody tr th:only-of-type {\n",
              "        vertical-align: middle;\n",
              "    }\n",
              "\n",
              "    .dataframe tbody tr th {\n",
              "        vertical-align: top;\n",
              "    }\n",
              "\n",
              "    .dataframe thead th {\n",
              "        text-align: right;\n",
              "    }\n",
              "</style>\n",
              "<table border=\"1\" class=\"dataframe\">\n",
              "  <thead>\n",
              "    <tr style=\"text-align: right;\">\n",
              "      <th></th>\n",
              "      <th>Permit Number</th>\n",
              "      <th>Permit Type</th>\n",
              "      <th>Permit Type Definition</th>\n",
              "      <th>Permit Creation Date</th>\n",
              "      <th>Block</th>\n",
              "      <th>Lot</th>\n",
              "      <th>Street Number</th>\n",
              "      <th>Street Number Suffix</th>\n",
              "      <th>Street Name</th>\n",
              "      <th>Street Suffix</th>\n",
              "      <th>...</th>\n",
              "      <th>Existing Construction Type</th>\n",
              "      <th>Existing Construction Type Description</th>\n",
              "      <th>Proposed Construction Type</th>\n",
              "      <th>Proposed Construction Type Description</th>\n",
              "      <th>Site Permit</th>\n",
              "      <th>Supervisor District</th>\n",
              "      <th>Neighborhoods - Analysis Boundaries</th>\n",
              "      <th>Zipcode</th>\n",
              "      <th>Location</th>\n",
              "      <th>Record ID</th>\n",
              "    </tr>\n",
              "  </thead>\n",
              "  <tbody>\n",
              "    <tr>\n",
              "      <th>0</th>\n",
              "      <td>2.01505E+11</td>\n",
              "      <td>4</td>\n",
              "      <td>sign - erect</td>\n",
              "      <td>05/06/2015</td>\n",
              "      <td>326</td>\n",
              "      <td>23</td>\n",
              "      <td>140</td>\n",
              "      <td>NaN</td>\n",
              "      <td>Ellis</td>\n",
              "      <td>St</td>\n",
              "      <td>...</td>\n",
              "      <td>3.0</td>\n",
              "      <td>constr type 3</td>\n",
              "      <td>NaN</td>\n",
              "      <td>NaN</td>\n",
              "      <td>NaN</td>\n",
              "      <td>3.0</td>\n",
              "      <td>Tenderloin</td>\n",
              "      <td>94102.0</td>\n",
              "      <td>(37.785719256680785, -122.40852313194863)</td>\n",
              "      <td>1.380610e+12</td>\n",
              "    </tr>\n",
              "    <tr>\n",
              "      <th>1</th>\n",
              "      <td>2.01604E+11</td>\n",
              "      <td>4</td>\n",
              "      <td>sign - erect</td>\n",
              "      <td>04/19/2016</td>\n",
              "      <td>306</td>\n",
              "      <td>7</td>\n",
              "      <td>440</td>\n",
              "      <td>NaN</td>\n",
              "      <td>Geary</td>\n",
              "      <td>St</td>\n",
              "      <td>...</td>\n",
              "      <td>3.0</td>\n",
              "      <td>constr type 3</td>\n",
              "      <td>NaN</td>\n",
              "      <td>NaN</td>\n",
              "      <td>NaN</td>\n",
              "      <td>3.0</td>\n",
              "      <td>Tenderloin</td>\n",
              "      <td>94102.0</td>\n",
              "      <td>(37.78733980600732, -122.41063199757738)</td>\n",
              "      <td>1.420160e+12</td>\n",
              "    </tr>\n",
              "    <tr>\n",
              "      <th>2</th>\n",
              "      <td>2.01605E+11</td>\n",
              "      <td>3</td>\n",
              "      <td>additions alterations or repairs</td>\n",
              "      <td>05/27/2016</td>\n",
              "      <td>595</td>\n",
              "      <td>203</td>\n",
              "      <td>1647</td>\n",
              "      <td>NaN</td>\n",
              "      <td>Pacific</td>\n",
              "      <td>Av</td>\n",
              "      <td>...</td>\n",
              "      <td>1.0</td>\n",
              "      <td>constr type 1</td>\n",
              "      <td>1.0</td>\n",
              "      <td>constr type 1</td>\n",
              "      <td>NaN</td>\n",
              "      <td>3.0</td>\n",
              "      <td>Russian Hill</td>\n",
              "      <td>94109.0</td>\n",
              "      <td>(37.7946573324287, -122.42232562979227)</td>\n",
              "      <td>1.424860e+12</td>\n",
              "    </tr>\n",
              "    <tr>\n",
              "      <th>3</th>\n",
              "      <td>2.01611E+11</td>\n",
              "      <td>8</td>\n",
              "      <td>otc alterations permit</td>\n",
              "      <td>11/07/2016</td>\n",
              "      <td>156</td>\n",
              "      <td>11</td>\n",
              "      <td>1230</td>\n",
              "      <td>NaN</td>\n",
              "      <td>Pacific</td>\n",
              "      <td>Av</td>\n",
              "      <td>...</td>\n",
              "      <td>5.0</td>\n",
              "      <td>wood frame (5)</td>\n",
              "      <td>5.0</td>\n",
              "      <td>wood frame (5)</td>\n",
              "      <td>NaN</td>\n",
              "      <td>3.0</td>\n",
              "      <td>Nob Hill</td>\n",
              "      <td>94109.0</td>\n",
              "      <td>(37.79595867909168, -122.41557405519474)</td>\n",
              "      <td>1.443570e+12</td>\n",
              "    </tr>\n",
              "    <tr>\n",
              "      <th>4</th>\n",
              "      <td>2.01611E+11</td>\n",
              "      <td>6</td>\n",
              "      <td>demolitions</td>\n",
              "      <td>11/28/2016</td>\n",
              "      <td>342</td>\n",
              "      <td>1</td>\n",
              "      <td>950</td>\n",
              "      <td>NaN</td>\n",
              "      <td>Market</td>\n",
              "      <td>St</td>\n",
              "      <td>...</td>\n",
              "      <td>3.0</td>\n",
              "      <td>constr type 3</td>\n",
              "      <td>NaN</td>\n",
              "      <td>NaN</td>\n",
              "      <td>NaN</td>\n",
              "      <td>6.0</td>\n",
              "      <td>Tenderloin</td>\n",
              "      <td>94102.0</td>\n",
              "      <td>(37.78315261897309, -122.40950883997789)</td>\n",
              "      <td>1.445480e+11</td>\n",
              "    </tr>\n",
              "  </tbody>\n",
              "</table>\n",
              "<p>5 rows × 43 columns</p>\n",
              "</div>\n",
              "    <div class=\"colab-df-buttons\">\n",
              "\n",
              "  <div class=\"colab-df-container\">\n",
              "    <button class=\"colab-df-convert\" onclick=\"convertToInteractive('df-1b4f6825-e649-4e9f-b419-de68df3209a0')\"\n",
              "            title=\"Convert this dataframe to an interactive table.\"\n",
              "            style=\"display:none;\">\n",
              "\n",
              "  <svg xmlns=\"http://www.w3.org/2000/svg\" height=\"24px\" viewBox=\"0 -960 960 960\">\n",
              "    <path d=\"M120-120v-720h720v720H120Zm60-500h600v-160H180v160Zm220 220h160v-160H400v160Zm0 220h160v-160H400v160ZM180-400h160v-160H180v160Zm440 0h160v-160H620v160ZM180-180h160v-160H180v160Zm440 0h160v-160H620v160Z\"/>\n",
              "  </svg>\n",
              "    </button>\n",
              "\n",
              "  <style>\n",
              "    .colab-df-container {\n",
              "      display:flex;\n",
              "      gap: 12px;\n",
              "    }\n",
              "\n",
              "    .colab-df-convert {\n",
              "      background-color: #E8F0FE;\n",
              "      border: none;\n",
              "      border-radius: 50%;\n",
              "      cursor: pointer;\n",
              "      display: none;\n",
              "      fill: #1967D2;\n",
              "      height: 32px;\n",
              "      padding: 0 0 0 0;\n",
              "      width: 32px;\n",
              "    }\n",
              "\n",
              "    .colab-df-convert:hover {\n",
              "      background-color: #E2EBFA;\n",
              "      box-shadow: 0px 1px 2px rgba(60, 64, 67, 0.3), 0px 1px 3px 1px rgba(60, 64, 67, 0.15);\n",
              "      fill: #174EA6;\n",
              "    }\n",
              "\n",
              "    .colab-df-buttons div {\n",
              "      margin-bottom: 4px;\n",
              "    }\n",
              "\n",
              "    [theme=dark] .colab-df-convert {\n",
              "      background-color: #3B4455;\n",
              "      fill: #D2E3FC;\n",
              "    }\n",
              "\n",
              "    [theme=dark] .colab-df-convert:hover {\n",
              "      background-color: #434B5C;\n",
              "      box-shadow: 0px 1px 3px 1px rgba(0, 0, 0, 0.15);\n",
              "      filter: drop-shadow(0px 1px 2px rgba(0, 0, 0, 0.3));\n",
              "      fill: #FFFFFF;\n",
              "    }\n",
              "  </style>\n",
              "\n",
              "    <script>\n",
              "      const buttonEl =\n",
              "        document.querySelector('#df-1b4f6825-e649-4e9f-b419-de68df3209a0 button.colab-df-convert');\n",
              "      buttonEl.style.display =\n",
              "        google.colab.kernel.accessAllowed ? 'block' : 'none';\n",
              "\n",
              "      async function convertToInteractive(key) {\n",
              "        const element = document.querySelector('#df-1b4f6825-e649-4e9f-b419-de68df3209a0');\n",
              "        const dataTable =\n",
              "          await google.colab.kernel.invokeFunction('convertToInteractive',\n",
              "                                                    [key], {});\n",
              "        if (!dataTable) return;\n",
              "\n",
              "        const docLinkHtml = 'Like what you see? Visit the ' +\n",
              "          '<a target=\"_blank\" href=https://colab.research.google.com/notebooks/data_table.ipynb>data table notebook</a>'\n",
              "          + ' to learn more about interactive tables.';\n",
              "        element.innerHTML = '';\n",
              "        dataTable['output_type'] = 'display_data';\n",
              "        await google.colab.output.renderOutput(dataTable, element);\n",
              "        const docLink = document.createElement('div');\n",
              "        docLink.innerHTML = docLinkHtml;\n",
              "        element.appendChild(docLink);\n",
              "      }\n",
              "    </script>\n",
              "  </div>\n",
              "\n",
              "\n",
              "<div id=\"df-3d6fb6b5-042f-426a-b25b-6c898045c356\">\n",
              "  <button class=\"colab-df-quickchart\" onclick=\"quickchart('df-3d6fb6b5-042f-426a-b25b-6c898045c356')\"\n",
              "            title=\"Suggest charts.\"\n",
              "            style=\"display:none;\">\n",
              "\n",
              "<svg xmlns=\"http://www.w3.org/2000/svg\" height=\"24px\"viewBox=\"0 0 24 24\"\n",
              "     width=\"24px\">\n",
              "    <g>\n",
              "        <path d=\"M19 3H5c-1.1 0-2 .9-2 2v14c0 1.1.9 2 2 2h14c1.1 0 2-.9 2-2V5c0-1.1-.9-2-2-2zM9 17H7v-7h2v7zm4 0h-2V7h2v10zm4 0h-2v-4h2v4z\"/>\n",
              "    </g>\n",
              "</svg>\n",
              "  </button>\n",
              "\n",
              "<style>\n",
              "  .colab-df-quickchart {\n",
              "      --bg-color: #E8F0FE;\n",
              "      --fill-color: #1967D2;\n",
              "      --hover-bg-color: #E2EBFA;\n",
              "      --hover-fill-color: #174EA6;\n",
              "      --disabled-fill-color: #AAA;\n",
              "      --disabled-bg-color: #DDD;\n",
              "  }\n",
              "\n",
              "  [theme=dark] .colab-df-quickchart {\n",
              "      --bg-color: #3B4455;\n",
              "      --fill-color: #D2E3FC;\n",
              "      --hover-bg-color: #434B5C;\n",
              "      --hover-fill-color: #FFFFFF;\n",
              "      --disabled-bg-color: #3B4455;\n",
              "      --disabled-fill-color: #666;\n",
              "  }\n",
              "\n",
              "  .colab-df-quickchart {\n",
              "    background-color: var(--bg-color);\n",
              "    border: none;\n",
              "    border-radius: 50%;\n",
              "    cursor: pointer;\n",
              "    display: none;\n",
              "    fill: var(--fill-color);\n",
              "    height: 32px;\n",
              "    padding: 0;\n",
              "    width: 32px;\n",
              "  }\n",
              "\n",
              "  .colab-df-quickchart:hover {\n",
              "    background-color: var(--hover-bg-color);\n",
              "    box-shadow: 0 1px 2px rgba(60, 64, 67, 0.3), 0 1px 3px 1px rgba(60, 64, 67, 0.15);\n",
              "    fill: var(--button-hover-fill-color);\n",
              "  }\n",
              "\n",
              "  .colab-df-quickchart-complete:disabled,\n",
              "  .colab-df-quickchart-complete:disabled:hover {\n",
              "    background-color: var(--disabled-bg-color);\n",
              "    fill: var(--disabled-fill-color);\n",
              "    box-shadow: none;\n",
              "  }\n",
              "\n",
              "  .colab-df-spinner {\n",
              "    border: 2px solid var(--fill-color);\n",
              "    border-color: transparent;\n",
              "    border-bottom-color: var(--fill-color);\n",
              "    animation:\n",
              "      spin 1s steps(1) infinite;\n",
              "  }\n",
              "\n",
              "  @keyframes spin {\n",
              "    0% {\n",
              "      border-color: transparent;\n",
              "      border-bottom-color: var(--fill-color);\n",
              "      border-left-color: var(--fill-color);\n",
              "    }\n",
              "    20% {\n",
              "      border-color: transparent;\n",
              "      border-left-color: var(--fill-color);\n",
              "      border-top-color: var(--fill-color);\n",
              "    }\n",
              "    30% {\n",
              "      border-color: transparent;\n",
              "      border-left-color: var(--fill-color);\n",
              "      border-top-color: var(--fill-color);\n",
              "      border-right-color: var(--fill-color);\n",
              "    }\n",
              "    40% {\n",
              "      border-color: transparent;\n",
              "      border-right-color: var(--fill-color);\n",
              "      border-top-color: var(--fill-color);\n",
              "    }\n",
              "    60% {\n",
              "      border-color: transparent;\n",
              "      border-right-color: var(--fill-color);\n",
              "    }\n",
              "    80% {\n",
              "      border-color: transparent;\n",
              "      border-right-color: var(--fill-color);\n",
              "      border-bottom-color: var(--fill-color);\n",
              "    }\n",
              "    90% {\n",
              "      border-color: transparent;\n",
              "      border-bottom-color: var(--fill-color);\n",
              "    }\n",
              "  }\n",
              "</style>\n",
              "\n",
              "  <script>\n",
              "    async function quickchart(key) {\n",
              "      const quickchartButtonEl =\n",
              "        document.querySelector('#' + key + ' button');\n",
              "      quickchartButtonEl.disabled = true;  // To prevent multiple clicks.\n",
              "      quickchartButtonEl.classList.add('colab-df-spinner');\n",
              "      try {\n",
              "        const charts = await google.colab.kernel.invokeFunction(\n",
              "            'suggestCharts', [key], {});\n",
              "      } catch (error) {\n",
              "        console.error('Error during call to suggestCharts:', error);\n",
              "      }\n",
              "      quickchartButtonEl.classList.remove('colab-df-spinner');\n",
              "      quickchartButtonEl.classList.add('colab-df-quickchart-complete');\n",
              "    }\n",
              "    (() => {\n",
              "      let quickchartButtonEl =\n",
              "        document.querySelector('#df-3d6fb6b5-042f-426a-b25b-6c898045c356 button');\n",
              "      quickchartButtonEl.style.display =\n",
              "        google.colab.kernel.accessAllowed ? 'block' : 'none';\n",
              "    })();\n",
              "  </script>\n",
              "</div>\n",
              "    </div>\n",
              "  </div>\n"
            ]
          },
          "metadata": {},
          "execution_count": 136
        }
      ],
      "source": [
        "df.head(5)"
      ]
    },
    {
      "cell_type": "code",
      "execution_count": 137,
      "metadata": {
        "colab": {
          "base_uri": "https://localhost:8080/"
        },
        "id": "1-tfpEfneMb_",
        "outputId": "9f9d7c1a-a5f2-4aa0-b4d4-c600b3f4353c"
      },
      "outputs": [
        {
          "output_type": "execute_result",
          "data": {
            "text/plain": [
              "Permit Number                                 0\n",
              "Permit Type                                   0\n",
              "Permit Type Definition                        0\n",
              "Permit Creation Date                          0\n",
              "Block                                         0\n",
              "Lot                                           0\n",
              "Street Number                                 0\n",
              "Street Number Suffix                      15204\n",
              "Street Name                                   0\n",
              "Street Suffix                               194\n",
              "Unit                                      13217\n",
              "Unit Suffix                               15185\n",
              "Description                                  25\n",
              "Current Status                                0\n",
              "Current Status Date                           0\n",
              "Filed Date                                    0\n",
              "Issued Date                                 635\n",
              "Completed Date                             6235\n",
              "First Construction Document Date            639\n",
              "Structural Notification                   14896\n",
              "Number of Existing Stories                 3189\n",
              "Number of Proposed Stories                 3386\n",
              "Voluntary Soft-Story Retrofit             15353\n",
              "Fire Only Permit                          13943\n",
              "Permit Expiration Date                     3460\n",
              "Estimated Cost                             2887\n",
              "Revised Cost                                247\n",
              "Existing Use                               3098\n",
              "Existing Units                             3917\n",
              "Proposed Use                               3333\n",
              "Proposed Units                             4018\n",
              "Plansets                                   2855\n",
              "TIDF Compliance                           15364\n",
              "Existing Construction Type                 3240\n",
              "Existing Construction Type Description     3240\n",
              "Proposed Construction Type                 3417\n",
              "Proposed Construction Type Description     3417\n",
              "Site Permit                               15068\n",
              "Supervisor District                         119\n",
              "Neighborhoods - Analysis Boundaries         119\n",
              "Zipcode                                     119\n",
              "Location                                    118\n",
              "Record ID                                     0\n",
              "dtype: int64"
            ]
          },
          "metadata": {},
          "execution_count": 137
        }
      ],
      "source": [
        "df.isnull().sum()"
      ]
    },
    {
      "cell_type": "markdown",
      "metadata": {
        "id": "GlxWG97iZ7QM"
      },
      "source": [
        "For fire only permit empty comlumn value can only imply \"NO\""
      ]
    },
    {
      "cell_type": "code",
      "execution_count": 138,
      "metadata": {
        "id": "E36rCE4rZ6sg"
      },
      "outputs": [],
      "source": [
        "df['Fire Only Permit'] = df['Fire Only Permit'].fillna(\"N\")"
      ]
    },
    {
      "cell_type": "markdown",
      "metadata": {
        "id": "X0D7Elmwi5PL"
      },
      "source": [
        "# **Drop column with missing values greater than 15000**"
      ]
    },
    {
      "cell_type": "code",
      "execution_count": 139,
      "metadata": {
        "id": "CzrgAXjseXEG"
      },
      "outputs": [],
      "source": [
        "threshold = 13000\n",
        "\n",
        "# Find columns with missing value rate higher than threshold\n",
        "cols_to_drop = df.columns[df.isnull().sum() > threshold]\n",
        "df2 = df.drop(columns=cols_to_drop)"
      ]
    },
    {
      "cell_type": "code",
      "execution_count": 140,
      "metadata": {
        "colab": {
          "base_uri": "https://localhost:8080/"
        },
        "id": "4y0qFJ2zetP1",
        "outputId": "2bcd9117-d317-44c0-9367-c0bfa2ea2e19"
      },
      "outputs": [
        {
          "output_type": "execute_result",
          "data": {
            "text/plain": [
              "Permit Number                                0\n",
              "Permit Type                                  0\n",
              "Permit Type Definition                       0\n",
              "Permit Creation Date                         0\n",
              "Block                                        0\n",
              "Lot                                          0\n",
              "Street Number                                0\n",
              "Street Name                                  0\n",
              "Street Suffix                              194\n",
              "Description                                 25\n",
              "Current Status                               0\n",
              "Current Status Date                          0\n",
              "Filed Date                                   0\n",
              "Issued Date                                635\n",
              "Completed Date                            6235\n",
              "First Construction Document Date           639\n",
              "Number of Existing Stories                3189\n",
              "Number of Proposed Stories                3386\n",
              "Fire Only Permit                             0\n",
              "Permit Expiration Date                    3460\n",
              "Estimated Cost                            2887\n",
              "Revised Cost                               247\n",
              "Existing Use                              3098\n",
              "Existing Units                            3917\n",
              "Proposed Use                              3333\n",
              "Proposed Units                            4018\n",
              "Plansets                                  2855\n",
              "Existing Construction Type                3240\n",
              "Existing Construction Type Description    3240\n",
              "Proposed Construction Type                3417\n",
              "Proposed Construction Type Description    3417\n",
              "Supervisor District                        119\n",
              "Neighborhoods - Analysis Boundaries        119\n",
              "Zipcode                                    119\n",
              "Location                                   118\n",
              "Record ID                                    0\n",
              "dtype: int64"
            ]
          },
          "metadata": {},
          "execution_count": 140
        }
      ],
      "source": [
        "df2.isnull().sum()"
      ]
    },
    {
      "cell_type": "markdown",
      "metadata": {
        "id": "d0g1ZaMniwwd"
      },
      "source": [
        "# **Fill street suffix with previous values**"
      ]
    },
    {
      "cell_type": "code",
      "execution_count": 141,
      "metadata": {
        "id": "0t282dFFmTOf"
      },
      "outputs": [],
      "source": [
        "df2['Street Suffix'] = df2['Street Suffix'].fillna(method='pad')"
      ]
    },
    {
      "cell_type": "code",
      "execution_count": 142,
      "metadata": {
        "colab": {
          "base_uri": "https://localhost:8080/"
        },
        "id": "-LYb3xDuoYP9",
        "outputId": "9c5e90d5-7926-4687-e916-da3e0fc28db8"
      },
      "outputs": [
        {
          "output_type": "execute_result",
          "data": {
            "text/plain": [
              "Permit Number                                0\n",
              "Permit Type                                  0\n",
              "Permit Type Definition                       0\n",
              "Permit Creation Date                         0\n",
              "Block                                        0\n",
              "Lot                                          0\n",
              "Street Number                                0\n",
              "Street Name                                  0\n",
              "Street Suffix                                0\n",
              "Description                                 25\n",
              "Current Status                               0\n",
              "Current Status Date                          0\n",
              "Filed Date                                   0\n",
              "Issued Date                                635\n",
              "Completed Date                            6235\n",
              "First Construction Document Date           639\n",
              "Number of Existing Stories                3189\n",
              "Number of Proposed Stories                3386\n",
              "Fire Only Permit                             0\n",
              "Permit Expiration Date                    3460\n",
              "Estimated Cost                            2887\n",
              "Revised Cost                               247\n",
              "Existing Use                              3098\n",
              "Existing Units                            3917\n",
              "Proposed Use                              3333\n",
              "Proposed Units                            4018\n",
              "Plansets                                  2855\n",
              "Existing Construction Type                3240\n",
              "Existing Construction Type Description    3240\n",
              "Proposed Construction Type                3417\n",
              "Proposed Construction Type Description    3417\n",
              "Supervisor District                        119\n",
              "Neighborhoods - Analysis Boundaries        119\n",
              "Zipcode                                    119\n",
              "Location                                   118\n",
              "Record ID                                    0\n",
              "dtype: int64"
            ]
          },
          "metadata": {},
          "execution_count": 142
        }
      ],
      "source": [
        "df2.isnull().sum()"
      ]
    },
    {
      "cell_type": "code",
      "execution_count": 143,
      "metadata": {
        "id": "Xy2IjwTQpXbb"
      },
      "outputs": [],
      "source": [
        "df2['Description'] = df2['Description'].fillna('No description available for this product')"
      ]
    },
    {
      "cell_type": "markdown",
      "metadata": {
        "id": "UBb69C3nroXr"
      },
      "source": [
        "# **Fill the revised cost with the Mean, train this with linear regression model**"
      ]
    },
    {
      "cell_type": "code",
      "execution_count": 144,
      "metadata": {
        "id": "eg7DVzbXr81o"
      },
      "outputs": [],
      "source": [
        "df2[\"Revised Cost\"].fillna( df2[\"Revised Cost\"].mean(), inplace=True)"
      ]
    },
    {
      "cell_type": "code",
      "execution_count": 145,
      "metadata": {
        "id": "zn3i8STMynAG"
      },
      "outputs": [],
      "source": [
        "df2[\"Estimated Cost\"].fillna( df2[\"Estimated Cost\"].mean(), inplace=True)"
      ]
    },
    {
      "cell_type": "code",
      "execution_count": 146,
      "metadata": {
        "colab": {
          "base_uri": "https://localhost:8080/"
        },
        "id": "0EmlQdpgtGrY",
        "outputId": "d858b514-ccac-4564-83eb-47d339aae581"
      },
      "outputs": [
        {
          "output_type": "execute_result",
          "data": {
            "text/plain": [
              "(15364, 36)"
            ]
          },
          "metadata": {},
          "execution_count": 146
        }
      ],
      "source": [
        "df2.shape"
      ]
    },
    {
      "cell_type": "markdown",
      "metadata": {
        "id": "R4VCx_oDtWKE"
      },
      "source": [
        "# **Fill location, zipcode, Neighborhoods - Analysis Boundaries , Supervisor District  with the values after them**"
      ]
    },
    {
      "cell_type": "code",
      "execution_count": 147,
      "metadata": {
        "id": "6isPwon5tVzc"
      },
      "outputs": [],
      "source": [
        "columns_to_fill = [\"Location\", \"Zipcode\", \"Neighborhoods - Analysis Boundaries\", \"Supervisor District\"]\n",
        "\n",
        "for column in columns_to_fill:\n",
        "    df2[column] = df2[column].bfill()"
      ]
    },
    {
      "cell_type": "markdown",
      "metadata": {
        "id": "QpBErDb2vZm1"
      },
      "source": [
        "# **Fill contruction type and description with values**"
      ]
    },
    {
      "cell_type": "code",
      "execution_count": 148,
      "metadata": {
        "id": "E_wv6yQMvvAS"
      },
      "outputs": [],
      "source": [
        "fill_values = {\n",
        "    'Existing Construction Type': 0 ,\n",
        "    'Existing Construction Type Description': 'No Description for this construction type',\n",
        "    'Proposed Construction Type': 0,\n",
        "    'Proposed Construction Type Description': 'No Description for this construction type',\n",
        "}\n",
        "\n",
        "df2.fillna(fill_values, inplace=True)"
      ]
    },
    {
      "cell_type": "code",
      "execution_count": 149,
      "metadata": {
        "colab": {
          "base_uri": "https://localhost:8080/"
        },
        "id": "YzdZLfvpwSG3",
        "outputId": "a04030e8-2cd9-430c-8789-7645a72cde9a"
      },
      "outputs": [
        {
          "output_type": "execute_result",
          "data": {
            "text/plain": [
              "Permit Number                                0\n",
              "Permit Type                                  0\n",
              "Permit Type Definition                       0\n",
              "Permit Creation Date                         0\n",
              "Block                                        0\n",
              "Lot                                          0\n",
              "Street Number                                0\n",
              "Street Name                                  0\n",
              "Street Suffix                                0\n",
              "Description                                  0\n",
              "Current Status                               0\n",
              "Current Status Date                          0\n",
              "Filed Date                                   0\n",
              "Issued Date                                635\n",
              "Completed Date                            6235\n",
              "First Construction Document Date           639\n",
              "Number of Existing Stories                3189\n",
              "Number of Proposed Stories                3386\n",
              "Fire Only Permit                             0\n",
              "Permit Expiration Date                    3460\n",
              "Estimated Cost                               0\n",
              "Revised Cost                                 0\n",
              "Existing Use                              3098\n",
              "Existing Units                            3917\n",
              "Proposed Use                              3333\n",
              "Proposed Units                            4018\n",
              "Plansets                                  2855\n",
              "Existing Construction Type                   0\n",
              "Existing Construction Type Description       0\n",
              "Proposed Construction Type                   0\n",
              "Proposed Construction Type Description       0\n",
              "Supervisor District                          0\n",
              "Neighborhoods - Analysis Boundaries          0\n",
              "Zipcode                                      0\n",
              "Location                                     0\n",
              "Record ID                                    0\n",
              "dtype: int64"
            ]
          },
          "metadata": {},
          "execution_count": 149
        }
      ],
      "source": [
        "df2.isnull().sum()"
      ]
    },
    {
      "cell_type": "markdown",
      "metadata": {
        "id": "oelxrkn02-Ku"
      },
      "source": [
        "# **Fill missing Completion Date with the highest date and missing Issue Date with the lowest date**\n"
      ]
    },
    {
      "cell_type": "code",
      "execution_count": 150,
      "metadata": {
        "id": "UnuB7ifEzwTZ"
      },
      "outputs": [],
      "source": [
        "# Fill missing Completion Date with the highest date\n",
        "df2['Completed Date'] = pd.to_datetime(df2['Completed Date'], errors='coerce')  # Convert to datetime\n",
        "max_completion_date = df2['Completed Date'].max()  # Find the highest date\n",
        "df2['Completed Date'].fillna(max_completion_date, inplace=True)  # Fill missing values\n",
        "\n",
        "# Fill missing Issue Date with the lowest date\n",
        "df2['Issued Date'] = pd.to_datetime(df2['Issued Date'], errors='coerce')  # Convert to datetime\n",
        "min_issue_date = df2['Issued Date'].min()  # Find the lowest date\n",
        "df2['Issued Date'].fillna(min_issue_date, inplace=True)"
      ]
    },
    {
      "cell_type": "markdown",
      "metadata": {
        "id": "5iccSO5g3QIQ"
      },
      "source": [
        "Fill missing"
      ]
    },
    {
      "cell_type": "code",
      "execution_count": 151,
      "metadata": {
        "id": "o59dNPZd0gC2"
      },
      "outputs": [],
      "source": [
        "# Fill missing Completion Date with the highest date\n",
        "df2['Permit Expiration Date'] = pd.to_datetime(df2['Permit Expiration Date'], errors='coerce')  # Convert to datetime\n",
        "max_completion_date = df2['Permit Expiration Date'].max()  # Find the highest date\n",
        "df2['Permit Expiration Date'].fillna(max_completion_date, inplace=True)  # Fill missing values"
      ]
    },
    {
      "cell_type": "markdown",
      "metadata": {
        "id": "4iY4qzXr4Yj0"
      },
      "source": []
    },
    {
      "cell_type": "code",
      "execution_count": 152,
      "metadata": {
        "id": "_C821jOc4dxA"
      },
      "outputs": [],
      "source": [
        "\n",
        "# Fill missing Completion Date with the highest date\n",
        "df2['First Construction Document Date'] = pd.to_datetime(df2['First Construction Document Date'], errors='coerce')  # Convert to datetime\n",
        "max_completion_date = df2['First Construction Document Date'].max()  # Find the highest date\n",
        "df2['First Construction Document Date'].fillna(max_completion_date, inplace=True)  # Fill missing values"
      ]
    },
    {
      "cell_type": "code",
      "execution_count": 153,
      "metadata": {
        "id": "JxjbQve35zEv"
      },
      "outputs": [],
      "source": [
        "# Calculate the mean of the \"Number of Existing Stories\" column as an integer\n",
        "mean_existing_stories = int(df['Number of Existing Stories'].mean())\n",
        "\n",
        "# Fill missing values with the mean as an integer\n",
        "df2['Number of Existing Stories'].fillna(mean_existing_stories, inplace=True)"
      ]
    },
    {
      "cell_type": "code",
      "execution_count": 154,
      "metadata": {
        "id": "cBW_ohlx8k0D"
      },
      "outputs": [],
      "source": [
        "df2['Number of Proposed Stories'].fillna(0, inplace=True)"
      ]
    },
    {
      "cell_type": "code",
      "execution_count": 155,
      "metadata": {
        "id": "TRWQpPI09Rk8"
      },
      "outputs": [],
      "source": [
        "df2['Proposed Units'].fillna(0, inplace=True)"
      ]
    },
    {
      "cell_type": "code",
      "execution_count": 156,
      "metadata": {
        "id": "H5nZJ0nM9W-6"
      },
      "outputs": [],
      "source": [
        "df2['Existing Units'].fillna(0, inplace=True)"
      ]
    },
    {
      "cell_type": "code",
      "execution_count": 157,
      "metadata": {
        "id": "E0Z-1VKj-fEG"
      },
      "outputs": [],
      "source": [
        "df2['Plansets'].fillna(0, inplace=True)"
      ]
    },
    {
      "cell_type": "code",
      "execution_count": 158,
      "metadata": {
        "id": "pRUdKvuh-y8y"
      },
      "outputs": [],
      "source": [
        "\n",
        "df2['Existing Use'].fillna(\"No Existing Use yet\", inplace=True)"
      ]
    },
    {
      "cell_type": "code",
      "execution_count": 159,
      "metadata": {
        "id": "lbfM8M47_Fv7"
      },
      "outputs": [],
      "source": [
        "df2['Proposed Use'].fillna(\"No Proposed Use yet\", inplace=True)"
      ]
    },
    {
      "cell_type": "code",
      "execution_count": 160,
      "metadata": {
        "colab": {
          "base_uri": "https://localhost:8080/"
        },
        "id": "QaJmbPm4CSvx",
        "outputId": "76853b0a-097a-436b-b2ee-ab7ca0719b4b"
      },
      "outputs": [
        {
          "output_type": "execute_result",
          "data": {
            "text/plain": [
              "Permit Number                             0\n",
              "Permit Type                               0\n",
              "Permit Type Definition                    0\n",
              "Permit Creation Date                      0\n",
              "Block                                     0\n",
              "Lot                                       0\n",
              "Street Number                             0\n",
              "Street Name                               0\n",
              "Street Suffix                             0\n",
              "Description                               0\n",
              "Current Status                            0\n",
              "Current Status Date                       0\n",
              "Filed Date                                0\n",
              "Issued Date                               0\n",
              "Completed Date                            0\n",
              "First Construction Document Date          0\n",
              "Number of Existing Stories                0\n",
              "Number of Proposed Stories                0\n",
              "Fire Only Permit                          0\n",
              "Permit Expiration Date                    0\n",
              "Estimated Cost                            0\n",
              "Revised Cost                              0\n",
              "Existing Use                              0\n",
              "Existing Units                            0\n",
              "Proposed Use                              0\n",
              "Proposed Units                            0\n",
              "Plansets                                  0\n",
              "Existing Construction Type                0\n",
              "Existing Construction Type Description    0\n",
              "Proposed Construction Type                0\n",
              "Proposed Construction Type Description    0\n",
              "Supervisor District                       0\n",
              "Neighborhoods - Analysis Boundaries       0\n",
              "Zipcode                                   0\n",
              "Location                                  0\n",
              "Record ID                                 0\n",
              "dtype: int64"
            ]
          },
          "metadata": {},
          "execution_count": 160
        }
      ],
      "source": [
        "df2.isnull().sum()"
      ]
    },
    {
      "cell_type": "markdown",
      "source": [
        "# New Features"
      ],
      "metadata": {
        "id": "3YKW0RdPWoDP"
      }
    },
    {
      "cell_type": "code",
      "source": [
        "df3 = df2.copy()\n",
        "df3.shape"
      ],
      "metadata": {
        "colab": {
          "base_uri": "https://localhost:8080/"
        },
        "id": "irIbL3U0aEFj",
        "outputId": "aabe2589-9747-4ecc-d363-b1a2d803c2d5"
      },
      "execution_count": 161,
      "outputs": [
        {
          "output_type": "execute_result",
          "data": {
            "text/plain": [
              "(15364, 36)"
            ]
          },
          "metadata": {},
          "execution_count": 161
        }
      ]
    },
    {
      "cell_type": "code",
      "source": [
        "df3.columns"
      ],
      "metadata": {
        "colab": {
          "base_uri": "https://localhost:8080/"
        },
        "id": "Mx8aJTWBaQij",
        "outputId": "1c50e7e5-6581-4697-e1ae-87b942933878"
      },
      "execution_count": 162,
      "outputs": [
        {
          "output_type": "execute_result",
          "data": {
            "text/plain": [
              "Index(['Permit Number', 'Permit Type', 'Permit Type Definition',\n",
              "       'Permit Creation Date', 'Block', 'Lot', 'Street Number', 'Street Name',\n",
              "       'Street Suffix', 'Description', 'Current Status', 'Current Status Date',\n",
              "       'Filed Date', 'Issued Date', 'Completed Date',\n",
              "       'First Construction Document Date', 'Number of Existing Stories',\n",
              "       'Number of Proposed Stories', 'Fire Only Permit',\n",
              "       'Permit Expiration Date', 'Estimated Cost', 'Revised Cost',\n",
              "       'Existing Use', 'Existing Units', 'Proposed Use', 'Proposed Units',\n",
              "       'Plansets', 'Existing Construction Type',\n",
              "       'Existing Construction Type Description', 'Proposed Construction Type',\n",
              "       'Proposed Construction Type Description', 'Supervisor District',\n",
              "       'Neighborhoods - Analysis Boundaries', 'Zipcode', 'Location',\n",
              "       'Record ID'],\n",
              "      dtype='object')"
            ]
          },
          "metadata": {},
          "execution_count": 162
        }
      ]
    },
    {
      "cell_type": "markdown",
      "source": [
        "The total unit existing after the completion of the proposed unit is given by;"
      ],
      "metadata": {
        "id": "zFMkmJliay8a"
      }
    },
    {
      "cell_type": "code",
      "source": [
        "df3['total_unit_after_completion'] = df2['Existing Units']  + df3['Proposed Units']\n",
        "df3['total_unit_after_completion']"
      ],
      "metadata": {
        "colab": {
          "base_uri": "https://localhost:8080/"
        },
        "id": "9kUaTn2jZ39u",
        "outputId": "253efb47-b63b-4421-f05e-d59488999479"
      },
      "execution_count": 163,
      "outputs": [
        {
          "output_type": "execute_result",
          "data": {
            "text/plain": [
              "0        143.0\n",
              "1          0.0\n",
              "2         78.0\n",
              "3          2.0\n",
              "4          0.0\n",
              "         ...  \n",
              "15359      2.0\n",
              "15360      4.0\n",
              "15361      4.0\n",
              "15362     16.0\n",
              "15363      0.0\n",
              "Name: total_unit_after_completion, Length: 15364, dtype: float64"
            ]
          },
          "metadata": {},
          "execution_count": 163
        }
      ]
    },
    {
      "cell_type": "markdown",
      "source": [
        "the lifespan of each permit is given by;"
      ],
      "metadata": {
        "id": "07UtNH3ja6q8"
      }
    },
    {
      "cell_type": "code",
      "source": [
        "# Convert both columns to datetime if they are not already\n",
        "df3['Permit Expiration Date'] = pd.to_datetime(df3['Permit Expiration Date'])\n",
        "df3['Permit Creation Date'] = pd.to_datetime(df3['Permit Creation Date'])\n",
        "\n",
        "# Subtract the dates to get the duration as a Timedelta\n",
        "df3['Permit_lifespan'] = df3['Permit Expiration Date'] - df3['Permit Creation Date']\n",
        "\n",
        "# To get the number of days as integers\n",
        "df3['Permit_lifespan_days'] = df3['Permit_lifespan'].dt.days\n"
      ],
      "metadata": {
        "id": "etkEID2dbHdP"
      },
      "execution_count": 164,
      "outputs": []
    },
    {
      "cell_type": "markdown",
      "source": [
        "time of completion calculated as the difference between the completion date and the issue date"
      ],
      "metadata": {
        "id": "Y-Do_0_ddcOu"
      }
    },
    {
      "cell_type": "code",
      "source": [
        "# Convert both columns to datetime if they are not already\n",
        "df3['Completed Date'] = pd.to_datetime(df3['Completed Date'])\n",
        "df3['Issued Date'] = pd.to_datetime(df3['Issued Date'])\n",
        "\n",
        "# Subtract the dates to get the duration as a Timedelta\n",
        "df3['time_of_completion'] = df3['Completed Date'] - df3['Issued Date']\n",
        "\n",
        "# To get the number of days as integers\n",
        "df3['time_of_completion_days'] = df3['time_of_completion'].dt.days\n",
        "df3['time_of_completion_days']"
      ],
      "metadata": {
        "colab": {
          "base_uri": "https://localhost:8080/"
        },
        "id": "VdZm1pYhb8Uj",
        "outputId": "b964a000-c3a6-4314-cada-b3fc4e32e7d0"
      },
      "execution_count": 165,
      "outputs": [
        {
          "output_type": "execute_result",
          "data": {
            "text/plain": [
              "0         820\n",
              "1         187\n",
              "2        1861\n",
              "3           6\n",
              "4          67\n",
              "         ... \n",
              "15359    1701\n",
              "15360      73\n",
              "15361      73\n",
              "15362      55\n",
              "15363    1701\n",
              "Name: time_of_completion_days, Length: 15364, dtype: int64"
            ]
          },
          "metadata": {},
          "execution_count": 165
        }
      ]
    },
    {
      "cell_type": "markdown",
      "source": [
        "time taken for permit to be issued after it has been filed for"
      ],
      "metadata": {
        "id": "3u4JGWavfjAp"
      }
    },
    {
      "cell_type": "code",
      "source": [
        "# Convert both columns to datetime if they are not already\n",
        "df3['Filed Date'] = pd.to_datetime(df3['Filed Date'])\n",
        "df3['Issued Date'] = pd.to_datetime(df3['Issued Date'])\n",
        "\n",
        "# Subtract the dates to get the duration as a Timedelta\n",
        "df3['time_of_issue'] =  df3['Issued Date'] - df3['Filed Date']\n",
        "\n",
        "# To get the number of days as integers\n",
        "df3.loc[df3['time_of_issue'].dt.days < 0, 'time_of_issue_days'] = 0\n",
        "\n",
        "df3.loc[df3['time_of_issue'].dt.days >= 0, 'time_of_issue_days'] = df3['time_of_issue'].dt.days\n",
        "df3['time_of_issue_days']\n",
        "df3"
      ],
      "metadata": {
        "colab": {
          "base_uri": "https://localhost:8080/",
          "height": 808
        },
        "id": "xCSbCOd6fqeV",
        "outputId": "611c20d7-b46b-4b76-a6d2-45f888a6333a"
      },
      "execution_count": 166,
      "outputs": [
        {
          "output_type": "execute_result",
          "data": {
            "text/plain": [
              "      Permit Number  Permit Type            Permit Type Definition  \\\n",
              "0       2.01505E+11            4                      sign - erect   \n",
              "1       2.01604E+11            4                      sign - erect   \n",
              "2       2.01605E+11            3  additions alterations or repairs   \n",
              "3       2.01611E+11            8            otc alterations permit   \n",
              "4       2.01611E+11            6                       demolitions   \n",
              "...             ...          ...                               ...   \n",
              "15359   2.01306E+11            8            otc alterations permit   \n",
              "15360   2.01306E+11            8            otc alterations permit   \n",
              "15361   2.01306E+11            8            otc alterations permit   \n",
              "15362   2.01306E+11            8            otc alterations permit   \n",
              "15363       M400947            8            otc alterations permit   \n",
              "\n",
              "      Permit Creation Date Block   Lot  Street Number Street Name  \\\n",
              "0               2015-05-06   326    23            140       Ellis   \n",
              "1               2016-04-19   306     7            440       Geary   \n",
              "2               2016-05-27   595   203           1647     Pacific   \n",
              "3               2016-11-07   156    11           1230     Pacific   \n",
              "4               2016-11-28   342     1            950      Market   \n",
              "...                    ...   ...   ...            ...         ...   \n",
              "15359           2013-06-11  7104  018B            162  Farallones   \n",
              "15360           2013-06-11  3609    81           3549        20th   \n",
              "15361           2013-06-11  3609    81           3551        20th   \n",
              "15362           2013-06-11  4260    13           2334        25th   \n",
              "15363           2013-06-11  3701    53             66        08th   \n",
              "\n",
              "      Street Suffix                                        Description  ...  \\\n",
              "0                St  ground fl facade: to erect illuminated, electr...  ...   \n",
              "1                St            remove (e) awning and associated signs.  ...   \n",
              "2                Av                    installation of separating wall  ...   \n",
              "3                Av           repair dryrot & stucco at front of bldg.  ...   \n",
              "4                St  demolish retail/office/commercial 3-story buil...  ...   \n",
              "...             ...                                                ...  ...   \n",
              "15359            St  install finishing plumbing, finish electrical,...  ...   \n",
              "15360            St  revision to 201208288466 to add a toilet in th...  ...   \n",
              "15361            St  revision to 201208288466 to add a toilet in th...  ...   \n",
              "15362            St  interior renovation unit #2334, new kitchen fi...  ...   \n",
              "15363            St                                street space permit  ...   \n",
              "\n",
              "       Zipcode                                   Location     Record ID  \\\n",
              "0      94102.0  (37.785719256680785, -122.40852313194863)  1.380610e+12   \n",
              "1      94102.0   (37.78733980600732, -122.41063199757738)  1.420160e+12   \n",
              "2      94109.0    (37.7946573324287, -122.42232562979227)  1.424860e+12   \n",
              "3      94109.0   (37.79595867909168, -122.41557405519474)  1.443570e+12   \n",
              "4      94102.0   (37.78315261897309, -122.40950883997789)  1.445480e+11   \n",
              "...        ...                                        ...           ...   \n",
              "15359  94112.0    (37.7143177382725, -122.45793648914099)  1.307690e+12   \n",
              "15360  94110.0    (37.7583635958755, -122.42012861020109)  1.307690e+12   \n",
              "15361  94110.0    (37.7583635958755, -122.42012861020109)  1.307690e+12   \n",
              "15362  94107.0  (37.752135529825054, -122.40206132582264)  1.307690e+12   \n",
              "15363  94103.0  (37.777338241377954, -122.41391079039403)  1.307690e+12   \n",
              "\n",
              "      total_unit_after_completion Permit_lifespan Permit_lifespan_days  \\\n",
              "0                           143.0        547 days                  547   \n",
              "1                             0.0        593 days                  593   \n",
              "2                            78.0       1995 days                 1995   \n",
              "3                             2.0        613 days                  613   \n",
              "4                             0.0        733 days                  733   \n",
              "...                           ...             ...                  ...   \n",
              "15359                         2.0        360 days                  360   \n",
              "15360                         4.0        367 days                  367   \n",
              "15361                         4.0        367 days                  367   \n",
              "15362                        16.0        360 days                  360   \n",
              "15363                         0.0       3076 days                 3076   \n",
              "\n",
              "       time_of_completion  time_of_completion_days time_of_issue  \\\n",
              "0                820 days                      820      187 days   \n",
              "1                187 days                      187      471 days   \n",
              "2               1861 days                     1861    -1241 days   \n",
              "3                  6 days                        6      253 days   \n",
              "4                 67 days                       67      368 days   \n",
              "...                   ...                      ...           ...   \n",
              "15359           1701 days                     1701        0 days   \n",
              "15360             73 days                       73        7 days   \n",
              "15361             73 days                       73        7 days   \n",
              "15362             55 days                       55        0 days   \n",
              "15363           1701 days                     1701        0 days   \n",
              "\n",
              "      time_of_issue_days  \n",
              "0                  187.0  \n",
              "1                  471.0  \n",
              "2                    0.0  \n",
              "3                  253.0  \n",
              "4                  368.0  \n",
              "...                  ...  \n",
              "15359                0.0  \n",
              "15360                7.0  \n",
              "15361                7.0  \n",
              "15362                0.0  \n",
              "15363                0.0  \n",
              "\n",
              "[15364 rows x 43 columns]"
            ],
            "text/html": [
              "\n",
              "  <div id=\"df-26543b69-052e-46f9-a818-f40d2f26b3d4\" class=\"colab-df-container\">\n",
              "    <div>\n",
              "<style scoped>\n",
              "    .dataframe tbody tr th:only-of-type {\n",
              "        vertical-align: middle;\n",
              "    }\n",
              "\n",
              "    .dataframe tbody tr th {\n",
              "        vertical-align: top;\n",
              "    }\n",
              "\n",
              "    .dataframe thead th {\n",
              "        text-align: right;\n",
              "    }\n",
              "</style>\n",
              "<table border=\"1\" class=\"dataframe\">\n",
              "  <thead>\n",
              "    <tr style=\"text-align: right;\">\n",
              "      <th></th>\n",
              "      <th>Permit Number</th>\n",
              "      <th>Permit Type</th>\n",
              "      <th>Permit Type Definition</th>\n",
              "      <th>Permit Creation Date</th>\n",
              "      <th>Block</th>\n",
              "      <th>Lot</th>\n",
              "      <th>Street Number</th>\n",
              "      <th>Street Name</th>\n",
              "      <th>Street Suffix</th>\n",
              "      <th>Description</th>\n",
              "      <th>...</th>\n",
              "      <th>Zipcode</th>\n",
              "      <th>Location</th>\n",
              "      <th>Record ID</th>\n",
              "      <th>total_unit_after_completion</th>\n",
              "      <th>Permit_lifespan</th>\n",
              "      <th>Permit_lifespan_days</th>\n",
              "      <th>time_of_completion</th>\n",
              "      <th>time_of_completion_days</th>\n",
              "      <th>time_of_issue</th>\n",
              "      <th>time_of_issue_days</th>\n",
              "    </tr>\n",
              "  </thead>\n",
              "  <tbody>\n",
              "    <tr>\n",
              "      <th>0</th>\n",
              "      <td>2.01505E+11</td>\n",
              "      <td>4</td>\n",
              "      <td>sign - erect</td>\n",
              "      <td>2015-05-06</td>\n",
              "      <td>326</td>\n",
              "      <td>23</td>\n",
              "      <td>140</td>\n",
              "      <td>Ellis</td>\n",
              "      <td>St</td>\n",
              "      <td>ground fl facade: to erect illuminated, electr...</td>\n",
              "      <td>...</td>\n",
              "      <td>94102.0</td>\n",
              "      <td>(37.785719256680785, -122.40852313194863)</td>\n",
              "      <td>1.380610e+12</td>\n",
              "      <td>143.0</td>\n",
              "      <td>547 days</td>\n",
              "      <td>547</td>\n",
              "      <td>820 days</td>\n",
              "      <td>820</td>\n",
              "      <td>187 days</td>\n",
              "      <td>187.0</td>\n",
              "    </tr>\n",
              "    <tr>\n",
              "      <th>1</th>\n",
              "      <td>2.01604E+11</td>\n",
              "      <td>4</td>\n",
              "      <td>sign - erect</td>\n",
              "      <td>2016-04-19</td>\n",
              "      <td>306</td>\n",
              "      <td>7</td>\n",
              "      <td>440</td>\n",
              "      <td>Geary</td>\n",
              "      <td>St</td>\n",
              "      <td>remove (e) awning and associated signs.</td>\n",
              "      <td>...</td>\n",
              "      <td>94102.0</td>\n",
              "      <td>(37.78733980600732, -122.41063199757738)</td>\n",
              "      <td>1.420160e+12</td>\n",
              "      <td>0.0</td>\n",
              "      <td>593 days</td>\n",
              "      <td>593</td>\n",
              "      <td>187 days</td>\n",
              "      <td>187</td>\n",
              "      <td>471 days</td>\n",
              "      <td>471.0</td>\n",
              "    </tr>\n",
              "    <tr>\n",
              "      <th>2</th>\n",
              "      <td>2.01605E+11</td>\n",
              "      <td>3</td>\n",
              "      <td>additions alterations or repairs</td>\n",
              "      <td>2016-05-27</td>\n",
              "      <td>595</td>\n",
              "      <td>203</td>\n",
              "      <td>1647</td>\n",
              "      <td>Pacific</td>\n",
              "      <td>Av</td>\n",
              "      <td>installation of separating wall</td>\n",
              "      <td>...</td>\n",
              "      <td>94109.0</td>\n",
              "      <td>(37.7946573324287, -122.42232562979227)</td>\n",
              "      <td>1.424860e+12</td>\n",
              "      <td>78.0</td>\n",
              "      <td>1995 days</td>\n",
              "      <td>1995</td>\n",
              "      <td>1861 days</td>\n",
              "      <td>1861</td>\n",
              "      <td>-1241 days</td>\n",
              "      <td>0.0</td>\n",
              "    </tr>\n",
              "    <tr>\n",
              "      <th>3</th>\n",
              "      <td>2.01611E+11</td>\n",
              "      <td>8</td>\n",
              "      <td>otc alterations permit</td>\n",
              "      <td>2016-11-07</td>\n",
              "      <td>156</td>\n",
              "      <td>11</td>\n",
              "      <td>1230</td>\n",
              "      <td>Pacific</td>\n",
              "      <td>Av</td>\n",
              "      <td>repair dryrot &amp; stucco at front of bldg.</td>\n",
              "      <td>...</td>\n",
              "      <td>94109.0</td>\n",
              "      <td>(37.79595867909168, -122.41557405519474)</td>\n",
              "      <td>1.443570e+12</td>\n",
              "      <td>2.0</td>\n",
              "      <td>613 days</td>\n",
              "      <td>613</td>\n",
              "      <td>6 days</td>\n",
              "      <td>6</td>\n",
              "      <td>253 days</td>\n",
              "      <td>253.0</td>\n",
              "    </tr>\n",
              "    <tr>\n",
              "      <th>4</th>\n",
              "      <td>2.01611E+11</td>\n",
              "      <td>6</td>\n",
              "      <td>demolitions</td>\n",
              "      <td>2016-11-28</td>\n",
              "      <td>342</td>\n",
              "      <td>1</td>\n",
              "      <td>950</td>\n",
              "      <td>Market</td>\n",
              "      <td>St</td>\n",
              "      <td>demolish retail/office/commercial 3-story buil...</td>\n",
              "      <td>...</td>\n",
              "      <td>94102.0</td>\n",
              "      <td>(37.78315261897309, -122.40950883997789)</td>\n",
              "      <td>1.445480e+11</td>\n",
              "      <td>0.0</td>\n",
              "      <td>733 days</td>\n",
              "      <td>733</td>\n",
              "      <td>67 days</td>\n",
              "      <td>67</td>\n",
              "      <td>368 days</td>\n",
              "      <td>368.0</td>\n",
              "    </tr>\n",
              "    <tr>\n",
              "      <th>...</th>\n",
              "      <td>...</td>\n",
              "      <td>...</td>\n",
              "      <td>...</td>\n",
              "      <td>...</td>\n",
              "      <td>...</td>\n",
              "      <td>...</td>\n",
              "      <td>...</td>\n",
              "      <td>...</td>\n",
              "      <td>...</td>\n",
              "      <td>...</td>\n",
              "      <td>...</td>\n",
              "      <td>...</td>\n",
              "      <td>...</td>\n",
              "      <td>...</td>\n",
              "      <td>...</td>\n",
              "      <td>...</td>\n",
              "      <td>...</td>\n",
              "      <td>...</td>\n",
              "      <td>...</td>\n",
              "      <td>...</td>\n",
              "      <td>...</td>\n",
              "    </tr>\n",
              "    <tr>\n",
              "      <th>15359</th>\n",
              "      <td>2.01306E+11</td>\n",
              "      <td>8</td>\n",
              "      <td>otc alterations permit</td>\n",
              "      <td>2013-06-11</td>\n",
              "      <td>7104</td>\n",
              "      <td>018B</td>\n",
              "      <td>162</td>\n",
              "      <td>Farallones</td>\n",
              "      <td>St</td>\n",
              "      <td>install finishing plumbing, finish electrical,...</td>\n",
              "      <td>...</td>\n",
              "      <td>94112.0</td>\n",
              "      <td>(37.7143177382725, -122.45793648914099)</td>\n",
              "      <td>1.307690e+12</td>\n",
              "      <td>2.0</td>\n",
              "      <td>360 days</td>\n",
              "      <td>360</td>\n",
              "      <td>1701 days</td>\n",
              "      <td>1701</td>\n",
              "      <td>0 days</td>\n",
              "      <td>0.0</td>\n",
              "    </tr>\n",
              "    <tr>\n",
              "      <th>15360</th>\n",
              "      <td>2.01306E+11</td>\n",
              "      <td>8</td>\n",
              "      <td>otc alterations permit</td>\n",
              "      <td>2013-06-11</td>\n",
              "      <td>3609</td>\n",
              "      <td>81</td>\n",
              "      <td>3549</td>\n",
              "      <td>20th</td>\n",
              "      <td>St</td>\n",
              "      <td>revision to 201208288466 to add a toilet in th...</td>\n",
              "      <td>...</td>\n",
              "      <td>94110.0</td>\n",
              "      <td>(37.7583635958755, -122.42012861020109)</td>\n",
              "      <td>1.307690e+12</td>\n",
              "      <td>4.0</td>\n",
              "      <td>367 days</td>\n",
              "      <td>367</td>\n",
              "      <td>73 days</td>\n",
              "      <td>73</td>\n",
              "      <td>7 days</td>\n",
              "      <td>7.0</td>\n",
              "    </tr>\n",
              "    <tr>\n",
              "      <th>15361</th>\n",
              "      <td>2.01306E+11</td>\n",
              "      <td>8</td>\n",
              "      <td>otc alterations permit</td>\n",
              "      <td>2013-06-11</td>\n",
              "      <td>3609</td>\n",
              "      <td>81</td>\n",
              "      <td>3551</td>\n",
              "      <td>20th</td>\n",
              "      <td>St</td>\n",
              "      <td>revision to 201208288466 to add a toilet in th...</td>\n",
              "      <td>...</td>\n",
              "      <td>94110.0</td>\n",
              "      <td>(37.7583635958755, -122.42012861020109)</td>\n",
              "      <td>1.307690e+12</td>\n",
              "      <td>4.0</td>\n",
              "      <td>367 days</td>\n",
              "      <td>367</td>\n",
              "      <td>73 days</td>\n",
              "      <td>73</td>\n",
              "      <td>7 days</td>\n",
              "      <td>7.0</td>\n",
              "    </tr>\n",
              "    <tr>\n",
              "      <th>15362</th>\n",
              "      <td>2.01306E+11</td>\n",
              "      <td>8</td>\n",
              "      <td>otc alterations permit</td>\n",
              "      <td>2013-06-11</td>\n",
              "      <td>4260</td>\n",
              "      <td>13</td>\n",
              "      <td>2334</td>\n",
              "      <td>25th</td>\n",
              "      <td>St</td>\n",
              "      <td>interior renovation unit #2334, new kitchen fi...</td>\n",
              "      <td>...</td>\n",
              "      <td>94107.0</td>\n",
              "      <td>(37.752135529825054, -122.40206132582264)</td>\n",
              "      <td>1.307690e+12</td>\n",
              "      <td>16.0</td>\n",
              "      <td>360 days</td>\n",
              "      <td>360</td>\n",
              "      <td>55 days</td>\n",
              "      <td>55</td>\n",
              "      <td>0 days</td>\n",
              "      <td>0.0</td>\n",
              "    </tr>\n",
              "    <tr>\n",
              "      <th>15363</th>\n",
              "      <td>M400947</td>\n",
              "      <td>8</td>\n",
              "      <td>otc alterations permit</td>\n",
              "      <td>2013-06-11</td>\n",
              "      <td>3701</td>\n",
              "      <td>53</td>\n",
              "      <td>66</td>\n",
              "      <td>08th</td>\n",
              "      <td>St</td>\n",
              "      <td>street space permit</td>\n",
              "      <td>...</td>\n",
              "      <td>94103.0</td>\n",
              "      <td>(37.777338241377954, -122.41391079039403)</td>\n",
              "      <td>1.307690e+12</td>\n",
              "      <td>0.0</td>\n",
              "      <td>3076 days</td>\n",
              "      <td>3076</td>\n",
              "      <td>1701 days</td>\n",
              "      <td>1701</td>\n",
              "      <td>0 days</td>\n",
              "      <td>0.0</td>\n",
              "    </tr>\n",
              "  </tbody>\n",
              "</table>\n",
              "<p>15364 rows × 43 columns</p>\n",
              "</div>\n",
              "    <div class=\"colab-df-buttons\">\n",
              "\n",
              "  <div class=\"colab-df-container\">\n",
              "    <button class=\"colab-df-convert\" onclick=\"convertToInteractive('df-26543b69-052e-46f9-a818-f40d2f26b3d4')\"\n",
              "            title=\"Convert this dataframe to an interactive table.\"\n",
              "            style=\"display:none;\">\n",
              "\n",
              "  <svg xmlns=\"http://www.w3.org/2000/svg\" height=\"24px\" viewBox=\"0 -960 960 960\">\n",
              "    <path d=\"M120-120v-720h720v720H120Zm60-500h600v-160H180v160Zm220 220h160v-160H400v160Zm0 220h160v-160H400v160ZM180-400h160v-160H180v160Zm440 0h160v-160H620v160ZM180-180h160v-160H180v160Zm440 0h160v-160H620v160Z\"/>\n",
              "  </svg>\n",
              "    </button>\n",
              "\n",
              "  <style>\n",
              "    .colab-df-container {\n",
              "      display:flex;\n",
              "      gap: 12px;\n",
              "    }\n",
              "\n",
              "    .colab-df-convert {\n",
              "      background-color: #E8F0FE;\n",
              "      border: none;\n",
              "      border-radius: 50%;\n",
              "      cursor: pointer;\n",
              "      display: none;\n",
              "      fill: #1967D2;\n",
              "      height: 32px;\n",
              "      padding: 0 0 0 0;\n",
              "      width: 32px;\n",
              "    }\n",
              "\n",
              "    .colab-df-convert:hover {\n",
              "      background-color: #E2EBFA;\n",
              "      box-shadow: 0px 1px 2px rgba(60, 64, 67, 0.3), 0px 1px 3px 1px rgba(60, 64, 67, 0.15);\n",
              "      fill: #174EA6;\n",
              "    }\n",
              "\n",
              "    .colab-df-buttons div {\n",
              "      margin-bottom: 4px;\n",
              "    }\n",
              "\n",
              "    [theme=dark] .colab-df-convert {\n",
              "      background-color: #3B4455;\n",
              "      fill: #D2E3FC;\n",
              "    }\n",
              "\n",
              "    [theme=dark] .colab-df-convert:hover {\n",
              "      background-color: #434B5C;\n",
              "      box-shadow: 0px 1px 3px 1px rgba(0, 0, 0, 0.15);\n",
              "      filter: drop-shadow(0px 1px 2px rgba(0, 0, 0, 0.3));\n",
              "      fill: #FFFFFF;\n",
              "    }\n",
              "  </style>\n",
              "\n",
              "    <script>\n",
              "      const buttonEl =\n",
              "        document.querySelector('#df-26543b69-052e-46f9-a818-f40d2f26b3d4 button.colab-df-convert');\n",
              "      buttonEl.style.display =\n",
              "        google.colab.kernel.accessAllowed ? 'block' : 'none';\n",
              "\n",
              "      async function convertToInteractive(key) {\n",
              "        const element = document.querySelector('#df-26543b69-052e-46f9-a818-f40d2f26b3d4');\n",
              "        const dataTable =\n",
              "          await google.colab.kernel.invokeFunction('convertToInteractive',\n",
              "                                                    [key], {});\n",
              "        if (!dataTable) return;\n",
              "\n",
              "        const docLinkHtml = 'Like what you see? Visit the ' +\n",
              "          '<a target=\"_blank\" href=https://colab.research.google.com/notebooks/data_table.ipynb>data table notebook</a>'\n",
              "          + ' to learn more about interactive tables.';\n",
              "        element.innerHTML = '';\n",
              "        dataTable['output_type'] = 'display_data';\n",
              "        await google.colab.output.renderOutput(dataTable, element);\n",
              "        const docLink = document.createElement('div');\n",
              "        docLink.innerHTML = docLinkHtml;\n",
              "        element.appendChild(docLink);\n",
              "      }\n",
              "    </script>\n",
              "  </div>\n",
              "\n",
              "\n",
              "<div id=\"df-d89fde12-4906-42c5-8e5f-b41d2fc8792f\">\n",
              "  <button class=\"colab-df-quickchart\" onclick=\"quickchart('df-d89fde12-4906-42c5-8e5f-b41d2fc8792f')\"\n",
              "            title=\"Suggest charts.\"\n",
              "            style=\"display:none;\">\n",
              "\n",
              "<svg xmlns=\"http://www.w3.org/2000/svg\" height=\"24px\"viewBox=\"0 0 24 24\"\n",
              "     width=\"24px\">\n",
              "    <g>\n",
              "        <path d=\"M19 3H5c-1.1 0-2 .9-2 2v14c0 1.1.9 2 2 2h14c1.1 0 2-.9 2-2V5c0-1.1-.9-2-2-2zM9 17H7v-7h2v7zm4 0h-2V7h2v10zm4 0h-2v-4h2v4z\"/>\n",
              "    </g>\n",
              "</svg>\n",
              "  </button>\n",
              "\n",
              "<style>\n",
              "  .colab-df-quickchart {\n",
              "      --bg-color: #E8F0FE;\n",
              "      --fill-color: #1967D2;\n",
              "      --hover-bg-color: #E2EBFA;\n",
              "      --hover-fill-color: #174EA6;\n",
              "      --disabled-fill-color: #AAA;\n",
              "      --disabled-bg-color: #DDD;\n",
              "  }\n",
              "\n",
              "  [theme=dark] .colab-df-quickchart {\n",
              "      --bg-color: #3B4455;\n",
              "      --fill-color: #D2E3FC;\n",
              "      --hover-bg-color: #434B5C;\n",
              "      --hover-fill-color: #FFFFFF;\n",
              "      --disabled-bg-color: #3B4455;\n",
              "      --disabled-fill-color: #666;\n",
              "  }\n",
              "\n",
              "  .colab-df-quickchart {\n",
              "    background-color: var(--bg-color);\n",
              "    border: none;\n",
              "    border-radius: 50%;\n",
              "    cursor: pointer;\n",
              "    display: none;\n",
              "    fill: var(--fill-color);\n",
              "    height: 32px;\n",
              "    padding: 0;\n",
              "    width: 32px;\n",
              "  }\n",
              "\n",
              "  .colab-df-quickchart:hover {\n",
              "    background-color: var(--hover-bg-color);\n",
              "    box-shadow: 0 1px 2px rgba(60, 64, 67, 0.3), 0 1px 3px 1px rgba(60, 64, 67, 0.15);\n",
              "    fill: var(--button-hover-fill-color);\n",
              "  }\n",
              "\n",
              "  .colab-df-quickchart-complete:disabled,\n",
              "  .colab-df-quickchart-complete:disabled:hover {\n",
              "    background-color: var(--disabled-bg-color);\n",
              "    fill: var(--disabled-fill-color);\n",
              "    box-shadow: none;\n",
              "  }\n",
              "\n",
              "  .colab-df-spinner {\n",
              "    border: 2px solid var(--fill-color);\n",
              "    border-color: transparent;\n",
              "    border-bottom-color: var(--fill-color);\n",
              "    animation:\n",
              "      spin 1s steps(1) infinite;\n",
              "  }\n",
              "\n",
              "  @keyframes spin {\n",
              "    0% {\n",
              "      border-color: transparent;\n",
              "      border-bottom-color: var(--fill-color);\n",
              "      border-left-color: var(--fill-color);\n",
              "    }\n",
              "    20% {\n",
              "      border-color: transparent;\n",
              "      border-left-color: var(--fill-color);\n",
              "      border-top-color: var(--fill-color);\n",
              "    }\n",
              "    30% {\n",
              "      border-color: transparent;\n",
              "      border-left-color: var(--fill-color);\n",
              "      border-top-color: var(--fill-color);\n",
              "      border-right-color: var(--fill-color);\n",
              "    }\n",
              "    40% {\n",
              "      border-color: transparent;\n",
              "      border-right-color: var(--fill-color);\n",
              "      border-top-color: var(--fill-color);\n",
              "    }\n",
              "    60% {\n",
              "      border-color: transparent;\n",
              "      border-right-color: var(--fill-color);\n",
              "    }\n",
              "    80% {\n",
              "      border-color: transparent;\n",
              "      border-right-color: var(--fill-color);\n",
              "      border-bottom-color: var(--fill-color);\n",
              "    }\n",
              "    90% {\n",
              "      border-color: transparent;\n",
              "      border-bottom-color: var(--fill-color);\n",
              "    }\n",
              "  }\n",
              "</style>\n",
              "\n",
              "  <script>\n",
              "    async function quickchart(key) {\n",
              "      const quickchartButtonEl =\n",
              "        document.querySelector('#' + key + ' button');\n",
              "      quickchartButtonEl.disabled = true;  // To prevent multiple clicks.\n",
              "      quickchartButtonEl.classList.add('colab-df-spinner');\n",
              "      try {\n",
              "        const charts = await google.colab.kernel.invokeFunction(\n",
              "            'suggestCharts', [key], {});\n",
              "      } catch (error) {\n",
              "        console.error('Error during call to suggestCharts:', error);\n",
              "      }\n",
              "      quickchartButtonEl.classList.remove('colab-df-spinner');\n",
              "      quickchartButtonEl.classList.add('colab-df-quickchart-complete');\n",
              "    }\n",
              "    (() => {\n",
              "      let quickchartButtonEl =\n",
              "        document.querySelector('#df-d89fde12-4906-42c5-8e5f-b41d2fc8792f button');\n",
              "      quickchartButtonEl.style.display =\n",
              "        google.colab.kernel.accessAllowed ? 'block' : 'none';\n",
              "    })();\n",
              "  </script>\n",
              "</div>\n",
              "    </div>\n",
              "  </div>\n"
            ]
          },
          "metadata": {},
          "execution_count": 166
        }
      ]
    },
    {
      "cell_type": "markdown",
      "source": [
        "check if there is any change and if the change is either higher or lower and add a column to indicate the type of chage that happened"
      ],
      "metadata": {
        "id": "XHRXBmFNnQRL"
      }
    },
    {
      "cell_type": "code",
      "source": [
        "cond = [\n",
        "    (df3['Estimated Cost'] - df3['Revised Cost']) > 0,\n",
        "    (df3['Estimated Cost'] - df3['Revised Cost']) == 0,\n",
        "    (df3['Estimated Cost'] - df3['Revised Cost']) < 0,\n",
        "]\n",
        "\n",
        "choices = ['decreased', 'No change', 'increased']\n",
        "df3['cost_changed'] = np.select(cond, choices, default='unknown')"
      ],
      "metadata": {
        "id": "dLRFLIk5lkji"
      },
      "execution_count": 167,
      "outputs": []
    },
    {
      "cell_type": "code",
      "source": [
        "df3['Current Status'].value_counts()"
      ],
      "metadata": {
        "colab": {
          "base_uri": "https://localhost:8080/"
        },
        "id": "Jn_KKKGTkMB4",
        "outputId": "409c0eef-fcc0-4ce2-9ed9-55bf4a77287b"
      },
      "execution_count": 168,
      "outputs": [
        {
          "output_type": "execute_result",
          "data": {
            "text/plain": [
              "complete      9103\n",
              "issued        5258\n",
              "filed          444\n",
              "expired        227\n",
              "cancelled      146\n",
              "withdrawn      105\n",
              "reinstated      34\n",
              "approved        32\n",
              "suspend         10\n",
              "revoked          3\n",
              "appeal           1\n",
              "plancheck        1\n",
              "Name: Current Status, dtype: int64"
            ]
          },
          "metadata": {},
          "execution_count": 168
        }
      ]
    },
    {
      "cell_type": "code",
      "source": [
        "df3['percentage_story_increase'] = df3['Number of Existing Stories']/ ( df3['Number of Existing Stories'] + df3['Number of Proposed Stories'])\n",
        "df3['percentage_story_increase']"
      ],
      "metadata": {
        "colab": {
          "base_uri": "https://localhost:8080/"
        },
        "id": "k5FSXHhcrNdv",
        "outputId": "f6ed922b-8edb-427c-e60a-79963c7d7ebc"
      },
      "execution_count": 169,
      "outputs": [
        {
          "output_type": "execute_result",
          "data": {
            "text/plain": [
              "0        1.0\n",
              "1        1.0\n",
              "2        0.5\n",
              "3        0.5\n",
              "4        1.0\n",
              "        ... \n",
              "15359    0.5\n",
              "15360    0.5\n",
              "15361    0.5\n",
              "15362    0.5\n",
              "15363    1.0\n",
              "Name: percentage_story_increase, Length: 15364, dtype: float64"
            ]
          },
          "metadata": {},
          "execution_count": 169
        }
      ]
    },
    {
      "cell_type": "code",
      "source": [
        "df3.columns"
      ],
      "metadata": {
        "colab": {
          "base_uri": "https://localhost:8080/"
        },
        "id": "8vmrwcCFdLdQ",
        "outputId": "894c8d37-7758-4026-8b35-e6f2209b7c6c"
      },
      "execution_count": 170,
      "outputs": [
        {
          "output_type": "execute_result",
          "data": {
            "text/plain": [
              "Index(['Permit Number', 'Permit Type', 'Permit Type Definition',\n",
              "       'Permit Creation Date', 'Block', 'Lot', 'Street Number', 'Street Name',\n",
              "       'Street Suffix', 'Description', 'Current Status', 'Current Status Date',\n",
              "       'Filed Date', 'Issued Date', 'Completed Date',\n",
              "       'First Construction Document Date', 'Number of Existing Stories',\n",
              "       'Number of Proposed Stories', 'Fire Only Permit',\n",
              "       'Permit Expiration Date', 'Estimated Cost', 'Revised Cost',\n",
              "       'Existing Use', 'Existing Units', 'Proposed Use', 'Proposed Units',\n",
              "       'Plansets', 'Existing Construction Type',\n",
              "       'Existing Construction Type Description', 'Proposed Construction Type',\n",
              "       'Proposed Construction Type Description', 'Supervisor District',\n",
              "       'Neighborhoods - Analysis Boundaries', 'Zipcode', 'Location',\n",
              "       'Record ID', 'total_unit_after_completion', 'Permit_lifespan',\n",
              "       'Permit_lifespan_days', 'time_of_completion', 'time_of_completion_days',\n",
              "       'time_of_issue', 'time_of_issue_days', 'cost_changed',\n",
              "       'percentage_story_increase'],\n",
              "      dtype='object')"
            ]
          },
          "metadata": {},
          "execution_count": 170
        }
      ]
    },
    {
      "cell_type": "markdown",
      "source": [
        "## Encoding of Categorical variables"
      ],
      "metadata": {
        "id": "jil1Evvbucit"
      }
    },
    {
      "cell_type": "code",
      "source": [
        "from sklearn.preprocessing import LabelEncoder,OrdinalEncoder\n",
        "\n",
        "encoder = LabelEncoder()\n",
        "categorical_columns = ['Permit Type Definition','Street Suffix','Existing Construction Type Description','Proposed Construction Type Description','Fire Only Permit','Lot','Description', 'Current Status', 'cost_changed']\n",
        "df3_4 = df3[categorical_columns].apply(encoder.fit_transform)"
      ],
      "metadata": {
        "id": "_jVFb4GjkdJE"
      },
      "execution_count": 175,
      "outputs": []
    },
    {
      "cell_type": "markdown",
      "source": [
        "Percentage increase in number of stories"
      ],
      "metadata": {
        "id": "ZcYYHHp0rOOf"
      }
    },
    {
      "cell_type": "code",
      "source": [
        "df3_4.head()"
      ],
      "metadata": {
        "colab": {
          "base_uri": "https://localhost:8080/",
          "height": 278
        },
        "id": "4n0ZGqsslZCX",
        "outputId": "90bce82e-9d6f-4ee3-eac5-354fbe75769e"
      },
      "execution_count": 183,
      "outputs": [
        {
          "output_type": "execute_result",
          "data": {
            "text/plain": [
              "   Permit Type Definition  Street Suffix  \\\n",
              "0                0.857143             12   \n",
              "1                0.857143             12   \n",
              "2                0.000000              1   \n",
              "3                0.714286              1   \n",
              "4                0.142857             12   \n",
              "\n",
              "   Existing Construction Type Description  \\\n",
              "0                                       3   \n",
              "1                                       3   \n",
              "2                                       1   \n",
              "3                                       5   \n",
              "4                                       3   \n",
              "\n",
              "   Proposed Construction Type Description  Fire Only Permit  Lot  Description  \\\n",
              "0                                       0                 0  339         3301   \n",
              "1                                       0                 0  473         6095   \n",
              "2                                       1                 0  318         4009   \n",
              "3                                       5                 0  241         6659   \n",
              "4                                       0                 0  229         2643   \n",
              "\n",
              "   Current Status  cost_changed  total_unit_after_completion  \\\n",
              "0               4             0                        143.0   \n",
              "1               6             2                          0.0   \n",
              "2              11             2                         78.0   \n",
              "3               3             0                          2.0   \n",
              "4               6             0                          0.0   \n",
              "\n",
              "   Permit_lifespan_days  time_of_completion_days  time_of_issue_days  \\\n",
              "0                   547                      820               187.0   \n",
              "1                   593                      187               471.0   \n",
              "2                  1995                     1861                 0.0   \n",
              "3                   613                        6               253.0   \n",
              "4                   733                       67               368.0   \n",
              "\n",
              "   percentage_story_increase  \n",
              "0                        1.0  \n",
              "1                        1.0  \n",
              "2                        0.5  \n",
              "3                        0.5  \n",
              "4                        1.0  "
            ],
            "text/html": [
              "\n",
              "  <div id=\"df-645bb404-1d31-4e2d-bc0e-04a2572d9026\" class=\"colab-df-container\">\n",
              "    <div>\n",
              "<style scoped>\n",
              "    .dataframe tbody tr th:only-of-type {\n",
              "        vertical-align: middle;\n",
              "    }\n",
              "\n",
              "    .dataframe tbody tr th {\n",
              "        vertical-align: top;\n",
              "    }\n",
              "\n",
              "    .dataframe thead th {\n",
              "        text-align: right;\n",
              "    }\n",
              "</style>\n",
              "<table border=\"1\" class=\"dataframe\">\n",
              "  <thead>\n",
              "    <tr style=\"text-align: right;\">\n",
              "      <th></th>\n",
              "      <th>Permit Type Definition</th>\n",
              "      <th>Street Suffix</th>\n",
              "      <th>Existing Construction Type Description</th>\n",
              "      <th>Proposed Construction Type Description</th>\n",
              "      <th>Fire Only Permit</th>\n",
              "      <th>Lot</th>\n",
              "      <th>Description</th>\n",
              "      <th>Current Status</th>\n",
              "      <th>cost_changed</th>\n",
              "      <th>total_unit_after_completion</th>\n",
              "      <th>Permit_lifespan_days</th>\n",
              "      <th>time_of_completion_days</th>\n",
              "      <th>time_of_issue_days</th>\n",
              "      <th>percentage_story_increase</th>\n",
              "    </tr>\n",
              "  </thead>\n",
              "  <tbody>\n",
              "    <tr>\n",
              "      <th>0</th>\n",
              "      <td>0.857143</td>\n",
              "      <td>12</td>\n",
              "      <td>3</td>\n",
              "      <td>0</td>\n",
              "      <td>0</td>\n",
              "      <td>339</td>\n",
              "      <td>3301</td>\n",
              "      <td>4</td>\n",
              "      <td>0</td>\n",
              "      <td>143.0</td>\n",
              "      <td>547</td>\n",
              "      <td>820</td>\n",
              "      <td>187.0</td>\n",
              "      <td>1.0</td>\n",
              "    </tr>\n",
              "    <tr>\n",
              "      <th>1</th>\n",
              "      <td>0.857143</td>\n",
              "      <td>12</td>\n",
              "      <td>3</td>\n",
              "      <td>0</td>\n",
              "      <td>0</td>\n",
              "      <td>473</td>\n",
              "      <td>6095</td>\n",
              "      <td>6</td>\n",
              "      <td>2</td>\n",
              "      <td>0.0</td>\n",
              "      <td>593</td>\n",
              "      <td>187</td>\n",
              "      <td>471.0</td>\n",
              "      <td>1.0</td>\n",
              "    </tr>\n",
              "    <tr>\n",
              "      <th>2</th>\n",
              "      <td>0.000000</td>\n",
              "      <td>1</td>\n",
              "      <td>1</td>\n",
              "      <td>1</td>\n",
              "      <td>0</td>\n",
              "      <td>318</td>\n",
              "      <td>4009</td>\n",
              "      <td>11</td>\n",
              "      <td>2</td>\n",
              "      <td>78.0</td>\n",
              "      <td>1995</td>\n",
              "      <td>1861</td>\n",
              "      <td>0.0</td>\n",
              "      <td>0.5</td>\n",
              "    </tr>\n",
              "    <tr>\n",
              "      <th>3</th>\n",
              "      <td>0.714286</td>\n",
              "      <td>1</td>\n",
              "      <td>5</td>\n",
              "      <td>5</td>\n",
              "      <td>0</td>\n",
              "      <td>241</td>\n",
              "      <td>6659</td>\n",
              "      <td>3</td>\n",
              "      <td>0</td>\n",
              "      <td>2.0</td>\n",
              "      <td>613</td>\n",
              "      <td>6</td>\n",
              "      <td>253.0</td>\n",
              "      <td>0.5</td>\n",
              "    </tr>\n",
              "    <tr>\n",
              "      <th>4</th>\n",
              "      <td>0.142857</td>\n",
              "      <td>12</td>\n",
              "      <td>3</td>\n",
              "      <td>0</td>\n",
              "      <td>0</td>\n",
              "      <td>229</td>\n",
              "      <td>2643</td>\n",
              "      <td>6</td>\n",
              "      <td>0</td>\n",
              "      <td>0.0</td>\n",
              "      <td>733</td>\n",
              "      <td>67</td>\n",
              "      <td>368.0</td>\n",
              "      <td>1.0</td>\n",
              "    </tr>\n",
              "  </tbody>\n",
              "</table>\n",
              "</div>\n",
              "    <div class=\"colab-df-buttons\">\n",
              "\n",
              "  <div class=\"colab-df-container\">\n",
              "    <button class=\"colab-df-convert\" onclick=\"convertToInteractive('df-645bb404-1d31-4e2d-bc0e-04a2572d9026')\"\n",
              "            title=\"Convert this dataframe to an interactive table.\"\n",
              "            style=\"display:none;\">\n",
              "\n",
              "  <svg xmlns=\"http://www.w3.org/2000/svg\" height=\"24px\" viewBox=\"0 -960 960 960\">\n",
              "    <path d=\"M120-120v-720h720v720H120Zm60-500h600v-160H180v160Zm220 220h160v-160H400v160Zm0 220h160v-160H400v160ZM180-400h160v-160H180v160Zm440 0h160v-160H620v160ZM180-180h160v-160H180v160Zm440 0h160v-160H620v160Z\"/>\n",
              "  </svg>\n",
              "    </button>\n",
              "\n",
              "  <style>\n",
              "    .colab-df-container {\n",
              "      display:flex;\n",
              "      gap: 12px;\n",
              "    }\n",
              "\n",
              "    .colab-df-convert {\n",
              "      background-color: #E8F0FE;\n",
              "      border: none;\n",
              "      border-radius: 50%;\n",
              "      cursor: pointer;\n",
              "      display: none;\n",
              "      fill: #1967D2;\n",
              "      height: 32px;\n",
              "      padding: 0 0 0 0;\n",
              "      width: 32px;\n",
              "    }\n",
              "\n",
              "    .colab-df-convert:hover {\n",
              "      background-color: #E2EBFA;\n",
              "      box-shadow: 0px 1px 2px rgba(60, 64, 67, 0.3), 0px 1px 3px 1px rgba(60, 64, 67, 0.15);\n",
              "      fill: #174EA6;\n",
              "    }\n",
              "\n",
              "    .colab-df-buttons div {\n",
              "      margin-bottom: 4px;\n",
              "    }\n",
              "\n",
              "    [theme=dark] .colab-df-convert {\n",
              "      background-color: #3B4455;\n",
              "      fill: #D2E3FC;\n",
              "    }\n",
              "\n",
              "    [theme=dark] .colab-df-convert:hover {\n",
              "      background-color: #434B5C;\n",
              "      box-shadow: 0px 1px 3px 1px rgba(0, 0, 0, 0.15);\n",
              "      filter: drop-shadow(0px 1px 2px rgba(0, 0, 0, 0.3));\n",
              "      fill: #FFFFFF;\n",
              "    }\n",
              "  </style>\n",
              "\n",
              "    <script>\n",
              "      const buttonEl =\n",
              "        document.querySelector('#df-645bb404-1d31-4e2d-bc0e-04a2572d9026 button.colab-df-convert');\n",
              "      buttonEl.style.display =\n",
              "        google.colab.kernel.accessAllowed ? 'block' : 'none';\n",
              "\n",
              "      async function convertToInteractive(key) {\n",
              "        const element = document.querySelector('#df-645bb404-1d31-4e2d-bc0e-04a2572d9026');\n",
              "        const dataTable =\n",
              "          await google.colab.kernel.invokeFunction('convertToInteractive',\n",
              "                                                    [key], {});\n",
              "        if (!dataTable) return;\n",
              "\n",
              "        const docLinkHtml = 'Like what you see? Visit the ' +\n",
              "          '<a target=\"_blank\" href=https://colab.research.google.com/notebooks/data_table.ipynb>data table notebook</a>'\n",
              "          + ' to learn more about interactive tables.';\n",
              "        element.innerHTML = '';\n",
              "        dataTable['output_type'] = 'display_data';\n",
              "        await google.colab.output.renderOutput(dataTable, element);\n",
              "        const docLink = document.createElement('div');\n",
              "        docLink.innerHTML = docLinkHtml;\n",
              "        element.appendChild(docLink);\n",
              "      }\n",
              "    </script>\n",
              "  </div>\n",
              "\n",
              "\n",
              "<div id=\"df-e9d42d24-0b39-4ded-a43d-dd3ca300a991\">\n",
              "  <button class=\"colab-df-quickchart\" onclick=\"quickchart('df-e9d42d24-0b39-4ded-a43d-dd3ca300a991')\"\n",
              "            title=\"Suggest charts.\"\n",
              "            style=\"display:none;\">\n",
              "\n",
              "<svg xmlns=\"http://www.w3.org/2000/svg\" height=\"24px\"viewBox=\"0 0 24 24\"\n",
              "     width=\"24px\">\n",
              "    <g>\n",
              "        <path d=\"M19 3H5c-1.1 0-2 .9-2 2v14c0 1.1.9 2 2 2h14c1.1 0 2-.9 2-2V5c0-1.1-.9-2-2-2zM9 17H7v-7h2v7zm4 0h-2V7h2v10zm4 0h-2v-4h2v4z\"/>\n",
              "    </g>\n",
              "</svg>\n",
              "  </button>\n",
              "\n",
              "<style>\n",
              "  .colab-df-quickchart {\n",
              "      --bg-color: #E8F0FE;\n",
              "      --fill-color: #1967D2;\n",
              "      --hover-bg-color: #E2EBFA;\n",
              "      --hover-fill-color: #174EA6;\n",
              "      --disabled-fill-color: #AAA;\n",
              "      --disabled-bg-color: #DDD;\n",
              "  }\n",
              "\n",
              "  [theme=dark] .colab-df-quickchart {\n",
              "      --bg-color: #3B4455;\n",
              "      --fill-color: #D2E3FC;\n",
              "      --hover-bg-color: #434B5C;\n",
              "      --hover-fill-color: #FFFFFF;\n",
              "      --disabled-bg-color: #3B4455;\n",
              "      --disabled-fill-color: #666;\n",
              "  }\n",
              "\n",
              "  .colab-df-quickchart {\n",
              "    background-color: var(--bg-color);\n",
              "    border: none;\n",
              "    border-radius: 50%;\n",
              "    cursor: pointer;\n",
              "    display: none;\n",
              "    fill: var(--fill-color);\n",
              "    height: 32px;\n",
              "    padding: 0;\n",
              "    width: 32px;\n",
              "  }\n",
              "\n",
              "  .colab-df-quickchart:hover {\n",
              "    background-color: var(--hover-bg-color);\n",
              "    box-shadow: 0 1px 2px rgba(60, 64, 67, 0.3), 0 1px 3px 1px rgba(60, 64, 67, 0.15);\n",
              "    fill: var(--button-hover-fill-color);\n",
              "  }\n",
              "\n",
              "  .colab-df-quickchart-complete:disabled,\n",
              "  .colab-df-quickchart-complete:disabled:hover {\n",
              "    background-color: var(--disabled-bg-color);\n",
              "    fill: var(--disabled-fill-color);\n",
              "    box-shadow: none;\n",
              "  }\n",
              "\n",
              "  .colab-df-spinner {\n",
              "    border: 2px solid var(--fill-color);\n",
              "    border-color: transparent;\n",
              "    border-bottom-color: var(--fill-color);\n",
              "    animation:\n",
              "      spin 1s steps(1) infinite;\n",
              "  }\n",
              "\n",
              "  @keyframes spin {\n",
              "    0% {\n",
              "      border-color: transparent;\n",
              "      border-bottom-color: var(--fill-color);\n",
              "      border-left-color: var(--fill-color);\n",
              "    }\n",
              "    20% {\n",
              "      border-color: transparent;\n",
              "      border-left-color: var(--fill-color);\n",
              "      border-top-color: var(--fill-color);\n",
              "    }\n",
              "    30% {\n",
              "      border-color: transparent;\n",
              "      border-left-color: var(--fill-color);\n",
              "      border-top-color: var(--fill-color);\n",
              "      border-right-color: var(--fill-color);\n",
              "    }\n",
              "    40% {\n",
              "      border-color: transparent;\n",
              "      border-right-color: var(--fill-color);\n",
              "      border-top-color: var(--fill-color);\n",
              "    }\n",
              "    60% {\n",
              "      border-color: transparent;\n",
              "      border-right-color: var(--fill-color);\n",
              "    }\n",
              "    80% {\n",
              "      border-color: transparent;\n",
              "      border-right-color: var(--fill-color);\n",
              "      border-bottom-color: var(--fill-color);\n",
              "    }\n",
              "    90% {\n",
              "      border-color: transparent;\n",
              "      border-bottom-color: var(--fill-color);\n",
              "    }\n",
              "  }\n",
              "</style>\n",
              "\n",
              "  <script>\n",
              "    async function quickchart(key) {\n",
              "      const quickchartButtonEl =\n",
              "        document.querySelector('#' + key + ' button');\n",
              "      quickchartButtonEl.disabled = true;  // To prevent multiple clicks.\n",
              "      quickchartButtonEl.classList.add('colab-df-spinner');\n",
              "      try {\n",
              "        const charts = await google.colab.kernel.invokeFunction(\n",
              "            'suggestCharts', [key], {});\n",
              "      } catch (error) {\n",
              "        console.error('Error during call to suggestCharts:', error);\n",
              "      }\n",
              "      quickchartButtonEl.classList.remove('colab-df-spinner');\n",
              "      quickchartButtonEl.classList.add('colab-df-quickchart-complete');\n",
              "    }\n",
              "    (() => {\n",
              "      let quickchartButtonEl =\n",
              "        document.querySelector('#df-e9d42d24-0b39-4ded-a43d-dd3ca300a991 button');\n",
              "      quickchartButtonEl.style.display =\n",
              "        google.colab.kernel.accessAllowed ? 'block' : 'none';\n",
              "    })();\n",
              "  </script>\n",
              "</div>\n",
              "    </div>\n",
              "  </div>\n"
            ]
          },
          "metadata": {},
          "execution_count": 183
        }
      ]
    },
    {
      "cell_type": "markdown",
      "source": [
        "combine the new features with this"
      ],
      "metadata": {
        "id": "GoJJ8Xbi0RfV"
      }
    },
    {
      "cell_type": "code",
      "source": [
        "df3_4['total_unit_after_completion'] = df3['total_unit_after_completion']\n",
        "df3_4['Permit_lifespan_days'] = df3['Permit_lifespan_days']\n",
        "df3_4['time_of_completion_days'] = df3['time_of_completion_days']\n",
        "df3_4['time_of_issue_days'] = df3['time_of_issue_days']\n",
        "df3_4['percentage_story_increase'] = df3['percentage_story_increase']"
      ],
      "metadata": {
        "id": "JK-2_8Jc0V8K"
      },
      "execution_count": 177,
      "outputs": []
    },
    {
      "cell_type": "markdown",
      "source": [],
      "metadata": {
        "id": "PjRbX23bzyEM"
      }
    },
    {
      "cell_type": "code",
      "source": [
        "df3_4.columns"
      ],
      "metadata": {
        "colab": {
          "base_uri": "https://localhost:8080/"
        },
        "id": "_wm1JiQP24H7",
        "outputId": "f27293a0-b003-4b77-92e7-16aa20b2008b"
      },
      "execution_count": 179,
      "outputs": [
        {
          "output_type": "execute_result",
          "data": {
            "text/plain": [
              "Index(['Permit Type Definition', 'Street Suffix',\n",
              "       'Existing Construction Type Description',\n",
              "       'Proposed Construction Type Description', 'Fire Only Permit', 'Lot',\n",
              "       'Description', 'Current Status', 'cost_changed',\n",
              "       'total_unit_after_completion', 'Permit_lifespan_days',\n",
              "       'time_of_completion_days', 'time_of_issue_days',\n",
              "       'percentage_story_increase'],\n",
              "      dtype='object')"
            ]
          },
          "metadata": {},
          "execution_count": 179
        }
      ]
    },
    {
      "cell_type": "markdown",
      "source": [
        "## Normalize the df"
      ],
      "metadata": {
        "id": "cLAHKeXl3Vfw"
      }
    },
    {
      "cell_type": "code",
      "source": [],
      "metadata": {
        "id": "FeP6TknC3aRr"
      },
      "execution_count": 184,
      "outputs": []
    },
    {
      "cell_type": "markdown",
      "source": [
        "## export to csv file"
      ],
      "metadata": {
        "id": "4MwzZjnG4ubw"
      }
    },
    {
      "cell_type": "code",
      "source": [
        "df3_4.to_csv('transformed_data.csv', index=False)"
      ],
      "metadata": {
        "id": "xtQiprrP4qTQ"
      },
      "execution_count": 185,
      "outputs": []
    }
  ],
  "metadata": {
    "colab": {
      "provenance": []
    },
    "kernelspec": {
      "display_name": "Python 3",
      "name": "python3"
    },
    "language_info": {
      "name": "python"
    }
  },
  "nbformat": 4,
  "nbformat_minor": 0
}