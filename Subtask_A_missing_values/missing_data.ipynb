{
  "nbformat": 4,
  "nbformat_minor": 0,
  "metadata": {
    "colab": {
      "provenance": [],
      "toc_visible": true
    },
    "kernelspec": {
      "name": "python3",
      "display_name": "Python 3"
    },
    "language_info": {
      "name": "python"
    }
  },
  "cells": [
    {
      "cell_type": "code",
      "source": [
        "!pip install pyspark\n",
        "!pip install datetime"
      ],
      "metadata": {
        "colab": {
          "base_uri": "https://localhost:8080/"
        },
        "id": "DgdI5slscsMn",
        "outputId": "371f50b7-c78d-4f5e-96a3-22871d103b76"
      },
      "execution_count": 1,
      "outputs": [
        {
          "output_type": "stream",
          "name": "stdout",
          "text": [
            "Requirement already satisfied: pyspark in /usr/local/lib/python3.10/dist-packages (3.5.0)\n",
            "Requirement already satisfied: py4j==0.10.9.7 in /usr/local/lib/python3.10/dist-packages (from pyspark) (0.10.9.7)\n",
            "Requirement already satisfied: datetime in /usr/local/lib/python3.10/dist-packages (5.2)\n",
            "Requirement already satisfied: zope.interface in /usr/local/lib/python3.10/dist-packages (from datetime) (6.1)\n",
            "Requirement already satisfied: pytz in /usr/local/lib/python3.10/dist-packages (from datetime) (2023.3.post1)\n",
            "Requirement already satisfied: setuptools in /usr/local/lib/python3.10/dist-packages (from zope.interface->datetime) (67.7.2)\n"
          ]
        }
      ]
    },
    {
      "cell_type": "code",
      "execution_count": 2,
      "metadata": {
        "id": "6-LZWNRRcRBJ"
      },
      "outputs": [],
      "source": [
        "from pyspark.sql import SparkSession\n",
        "from pyspark.sql.types import MapType,StringType\n",
        "from pyspark.sql.functions import from_json\n",
        "import pandas as pd\n",
        "import datetime"
      ]
    },
    {
      "cell_type": "code",
      "source": [
        "df = pd.read_excel(\"Intermediate_Task.xlsx\")"
      ],
      "metadata": {
        "id": "dOhBEXjudR2g"
      },
      "execution_count": 3,
      "outputs": []
    },
    {
      "cell_type": "code",
      "source": [
        "print(df.dtypes)"
      ],
      "metadata": {
        "colab": {
          "base_uri": "https://localhost:8080/"
        },
        "id": "_3tokUjcdbyf",
        "outputId": "d4b95004-2694-407a-94b5-3a2dd1f75372"
      },
      "execution_count": 4,
      "outputs": [
        {
          "output_type": "stream",
          "name": "stdout",
          "text": [
            "Permit Number                              object\n",
            "Permit Type                                 int64\n",
            "Permit Type Definition                     object\n",
            "Permit Creation Date                       object\n",
            "Block                                      object\n",
            "Lot                                        object\n",
            "Street Number                               int64\n",
            "Street Number Suffix                       object\n",
            "Street Name                                object\n",
            "Street Suffix                              object\n",
            "Unit                                      float64\n",
            "Unit Suffix                                object\n",
            "Description                                object\n",
            "Current Status                             object\n",
            "Current Status Date                        object\n",
            "Filed Date                                 object\n",
            "Issued Date                                object\n",
            "Completed Date                             object\n",
            "First Construction Document Date           object\n",
            "Structural Notification                    object\n",
            "Number of Existing Stories                float64\n",
            "Number of Proposed Stories                float64\n",
            "Voluntary Soft-Story Retrofit              object\n",
            "Fire Only Permit                           object\n",
            "Permit Expiration Date                     object\n",
            "Estimated Cost                            float64\n",
            "Revised Cost                              float64\n",
            "Existing Use                               object\n",
            "Existing Units                            float64\n",
            "Proposed Use                               object\n",
            "Proposed Units                            float64\n",
            "Plansets                                  float64\n",
            "TIDF Compliance                           float64\n",
            "Existing Construction Type                float64\n",
            "Existing Construction Type Description     object\n",
            "Proposed Construction Type                float64\n",
            "Proposed Construction Type Description     object\n",
            "Site Permit                                object\n",
            "Supervisor District                       float64\n",
            "Neighborhoods - Analysis Boundaries        object\n",
            "Zipcode                                   float64\n",
            "Location                                   object\n",
            "Record ID                                 float64\n",
            "dtype: object\n"
          ]
        }
      ]
    },
    {
      "cell_type": "code",
      "source": [
        "df.shape"
      ],
      "metadata": {
        "colab": {
          "base_uri": "https://localhost:8080/"
        },
        "id": "7Agj97Zidh60",
        "outputId": "25334c63-7cd9-4140-c2fd-4cc4293eef51"
      },
      "execution_count": 5,
      "outputs": [
        {
          "output_type": "execute_result",
          "data": {
            "text/plain": [
              "(15364, 43)"
            ]
          },
          "metadata": {},
          "execution_count": 5
        }
      ]
    },
    {
      "cell_type": "code",
      "source": [
        "df.head(5)"
      ],
      "metadata": {
        "colab": {
          "base_uri": "https://localhost:8080/",
          "height": 429
        },
        "id": "Y78RFrLFdsuZ",
        "outputId": "8e009a99-4b77-478f-c16b-acb5802b5cb1"
      },
      "execution_count": 6,
      "outputs": [
        {
          "output_type": "execute_result",
          "data": {
            "text/plain": [
              "  Permit Number  Permit Type            Permit Type Definition  \\\n",
              "0   2.01505E+11            4                      sign - erect   \n",
              "1   2.01604E+11            4                      sign - erect   \n",
              "2   2.01605E+11            3  additions alterations or repairs   \n",
              "3   2.01611E+11            8            otc alterations permit   \n",
              "4   2.01611E+11            6                       demolitions   \n",
              "\n",
              "  Permit Creation Date Block  Lot  Street Number Street Number Suffix  \\\n",
              "0           05/06/2015   326   23            140                  NaN   \n",
              "1           04/19/2016   306    7            440                  NaN   \n",
              "2           05/27/2016   595  203           1647                  NaN   \n",
              "3           11/07/2016   156   11           1230                  NaN   \n",
              "4           11/28/2016   342    1            950                  NaN   \n",
              "\n",
              "  Street Name Street Suffix  ...  Existing Construction Type  \\\n",
              "0       Ellis            St  ...                         3.0   \n",
              "1       Geary            St  ...                         3.0   \n",
              "2     Pacific            Av  ...                         1.0   \n",
              "3     Pacific            Av  ...                         5.0   \n",
              "4      Market            St  ...                         3.0   \n",
              "\n",
              "  Existing Construction Type Description Proposed Construction Type  \\\n",
              "0                          constr type 3                        NaN   \n",
              "1                          constr type 3                        NaN   \n",
              "2                          constr type 1                        1.0   \n",
              "3                         wood frame (5)                        5.0   \n",
              "4                          constr type 3                        NaN   \n",
              "\n",
              "  Proposed Construction Type Description Site Permit Supervisor District  \\\n",
              "0                                    NaN         NaN                 3.0   \n",
              "1                                    NaN         NaN                 3.0   \n",
              "2                          constr type 1         NaN                 3.0   \n",
              "3                         wood frame (5)         NaN                 3.0   \n",
              "4                                    NaN         NaN                 6.0   \n",
              "\n",
              "  Neighborhoods - Analysis Boundaries  Zipcode  \\\n",
              "0                          Tenderloin  94102.0   \n",
              "1                          Tenderloin  94102.0   \n",
              "2                        Russian Hill  94109.0   \n",
              "3                            Nob Hill  94109.0   \n",
              "4                          Tenderloin  94102.0   \n",
              "\n",
              "                                    Location     Record ID  \n",
              "0  (37.785719256680785, -122.40852313194863)  1.380610e+12  \n",
              "1   (37.78733980600732, -122.41063199757738)  1.420160e+12  \n",
              "2    (37.7946573324287, -122.42232562979227)  1.424860e+12  \n",
              "3   (37.79595867909168, -122.41557405519474)  1.443570e+12  \n",
              "4   (37.78315261897309, -122.40950883997789)  1.445480e+11  \n",
              "\n",
              "[5 rows x 43 columns]"
            ],
            "text/html": [
              "\n",
              "  <div id=\"df-701717e8-9ddd-4021-8387-916d42489448\" class=\"colab-df-container\">\n",
              "    <div>\n",
              "<style scoped>\n",
              "    .dataframe tbody tr th:only-of-type {\n",
              "        vertical-align: middle;\n",
              "    }\n",
              "\n",
              "    .dataframe tbody tr th {\n",
              "        vertical-align: top;\n",
              "    }\n",
              "\n",
              "    .dataframe thead th {\n",
              "        text-align: right;\n",
              "    }\n",
              "</style>\n",
              "<table border=\"1\" class=\"dataframe\">\n",
              "  <thead>\n",
              "    <tr style=\"text-align: right;\">\n",
              "      <th></th>\n",
              "      <th>Permit Number</th>\n",
              "      <th>Permit Type</th>\n",
              "      <th>Permit Type Definition</th>\n",
              "      <th>Permit Creation Date</th>\n",
              "      <th>Block</th>\n",
              "      <th>Lot</th>\n",
              "      <th>Street Number</th>\n",
              "      <th>Street Number Suffix</th>\n",
              "      <th>Street Name</th>\n",
              "      <th>Street Suffix</th>\n",
              "      <th>...</th>\n",
              "      <th>Existing Construction Type</th>\n",
              "      <th>Existing Construction Type Description</th>\n",
              "      <th>Proposed Construction Type</th>\n",
              "      <th>Proposed Construction Type Description</th>\n",
              "      <th>Site Permit</th>\n",
              "      <th>Supervisor District</th>\n",
              "      <th>Neighborhoods - Analysis Boundaries</th>\n",
              "      <th>Zipcode</th>\n",
              "      <th>Location</th>\n",
              "      <th>Record ID</th>\n",
              "    </tr>\n",
              "  </thead>\n",
              "  <tbody>\n",
              "    <tr>\n",
              "      <th>0</th>\n",
              "      <td>2.01505E+11</td>\n",
              "      <td>4</td>\n",
              "      <td>sign - erect</td>\n",
              "      <td>05/06/2015</td>\n",
              "      <td>326</td>\n",
              "      <td>23</td>\n",
              "      <td>140</td>\n",
              "      <td>NaN</td>\n",
              "      <td>Ellis</td>\n",
              "      <td>St</td>\n",
              "      <td>...</td>\n",
              "      <td>3.0</td>\n",
              "      <td>constr type 3</td>\n",
              "      <td>NaN</td>\n",
              "      <td>NaN</td>\n",
              "      <td>NaN</td>\n",
              "      <td>3.0</td>\n",
              "      <td>Tenderloin</td>\n",
              "      <td>94102.0</td>\n",
              "      <td>(37.785719256680785, -122.40852313194863)</td>\n",
              "      <td>1.380610e+12</td>\n",
              "    </tr>\n",
              "    <tr>\n",
              "      <th>1</th>\n",
              "      <td>2.01604E+11</td>\n",
              "      <td>4</td>\n",
              "      <td>sign - erect</td>\n",
              "      <td>04/19/2016</td>\n",
              "      <td>306</td>\n",
              "      <td>7</td>\n",
              "      <td>440</td>\n",
              "      <td>NaN</td>\n",
              "      <td>Geary</td>\n",
              "      <td>St</td>\n",
              "      <td>...</td>\n",
              "      <td>3.0</td>\n",
              "      <td>constr type 3</td>\n",
              "      <td>NaN</td>\n",
              "      <td>NaN</td>\n",
              "      <td>NaN</td>\n",
              "      <td>3.0</td>\n",
              "      <td>Tenderloin</td>\n",
              "      <td>94102.0</td>\n",
              "      <td>(37.78733980600732, -122.41063199757738)</td>\n",
              "      <td>1.420160e+12</td>\n",
              "    </tr>\n",
              "    <tr>\n",
              "      <th>2</th>\n",
              "      <td>2.01605E+11</td>\n",
              "      <td>3</td>\n",
              "      <td>additions alterations or repairs</td>\n",
              "      <td>05/27/2016</td>\n",
              "      <td>595</td>\n",
              "      <td>203</td>\n",
              "      <td>1647</td>\n",
              "      <td>NaN</td>\n",
              "      <td>Pacific</td>\n",
              "      <td>Av</td>\n",
              "      <td>...</td>\n",
              "      <td>1.0</td>\n",
              "      <td>constr type 1</td>\n",
              "      <td>1.0</td>\n",
              "      <td>constr type 1</td>\n",
              "      <td>NaN</td>\n",
              "      <td>3.0</td>\n",
              "      <td>Russian Hill</td>\n",
              "      <td>94109.0</td>\n",
              "      <td>(37.7946573324287, -122.42232562979227)</td>\n",
              "      <td>1.424860e+12</td>\n",
              "    </tr>\n",
              "    <tr>\n",
              "      <th>3</th>\n",
              "      <td>2.01611E+11</td>\n",
              "      <td>8</td>\n",
              "      <td>otc alterations permit</td>\n",
              "      <td>11/07/2016</td>\n",
              "      <td>156</td>\n",
              "      <td>11</td>\n",
              "      <td>1230</td>\n",
              "      <td>NaN</td>\n",
              "      <td>Pacific</td>\n",
              "      <td>Av</td>\n",
              "      <td>...</td>\n",
              "      <td>5.0</td>\n",
              "      <td>wood frame (5)</td>\n",
              "      <td>5.0</td>\n",
              "      <td>wood frame (5)</td>\n",
              "      <td>NaN</td>\n",
              "      <td>3.0</td>\n",
              "      <td>Nob Hill</td>\n",
              "      <td>94109.0</td>\n",
              "      <td>(37.79595867909168, -122.41557405519474)</td>\n",
              "      <td>1.443570e+12</td>\n",
              "    </tr>\n",
              "    <tr>\n",
              "      <th>4</th>\n",
              "      <td>2.01611E+11</td>\n",
              "      <td>6</td>\n",
              "      <td>demolitions</td>\n",
              "      <td>11/28/2016</td>\n",
              "      <td>342</td>\n",
              "      <td>1</td>\n",
              "      <td>950</td>\n",
              "      <td>NaN</td>\n",
              "      <td>Market</td>\n",
              "      <td>St</td>\n",
              "      <td>...</td>\n",
              "      <td>3.0</td>\n",
              "      <td>constr type 3</td>\n",
              "      <td>NaN</td>\n",
              "      <td>NaN</td>\n",
              "      <td>NaN</td>\n",
              "      <td>6.0</td>\n",
              "      <td>Tenderloin</td>\n",
              "      <td>94102.0</td>\n",
              "      <td>(37.78315261897309, -122.40950883997789)</td>\n",
              "      <td>1.445480e+11</td>\n",
              "    </tr>\n",
              "  </tbody>\n",
              "</table>\n",
              "<p>5 rows × 43 columns</p>\n",
              "</div>\n",
              "    <div class=\"colab-df-buttons\">\n",
              "\n",
              "  <div class=\"colab-df-container\">\n",
              "    <button class=\"colab-df-convert\" onclick=\"convertToInteractive('df-701717e8-9ddd-4021-8387-916d42489448')\"\n",
              "            title=\"Convert this dataframe to an interactive table.\"\n",
              "            style=\"display:none;\">\n",
              "\n",
              "  <svg xmlns=\"http://www.w3.org/2000/svg\" height=\"24px\" viewBox=\"0 -960 960 960\">\n",
              "    <path d=\"M120-120v-720h720v720H120Zm60-500h600v-160H180v160Zm220 220h160v-160H400v160Zm0 220h160v-160H400v160ZM180-400h160v-160H180v160Zm440 0h160v-160H620v160ZM180-180h160v-160H180v160Zm440 0h160v-160H620v160Z\"/>\n",
              "  </svg>\n",
              "    </button>\n",
              "\n",
              "  <style>\n",
              "    .colab-df-container {\n",
              "      display:flex;\n",
              "      gap: 12px;\n",
              "    }\n",
              "\n",
              "    .colab-df-convert {\n",
              "      background-color: #E8F0FE;\n",
              "      border: none;\n",
              "      border-radius: 50%;\n",
              "      cursor: pointer;\n",
              "      display: none;\n",
              "      fill: #1967D2;\n",
              "      height: 32px;\n",
              "      padding: 0 0 0 0;\n",
              "      width: 32px;\n",
              "    }\n",
              "\n",
              "    .colab-df-convert:hover {\n",
              "      background-color: #E2EBFA;\n",
              "      box-shadow: 0px 1px 2px rgba(60, 64, 67, 0.3), 0px 1px 3px 1px rgba(60, 64, 67, 0.15);\n",
              "      fill: #174EA6;\n",
              "    }\n",
              "\n",
              "    .colab-df-buttons div {\n",
              "      margin-bottom: 4px;\n",
              "    }\n",
              "\n",
              "    [theme=dark] .colab-df-convert {\n",
              "      background-color: #3B4455;\n",
              "      fill: #D2E3FC;\n",
              "    }\n",
              "\n",
              "    [theme=dark] .colab-df-convert:hover {\n",
              "      background-color: #434B5C;\n",
              "      box-shadow: 0px 1px 3px 1px rgba(0, 0, 0, 0.15);\n",
              "      filter: drop-shadow(0px 1px 2px rgba(0, 0, 0, 0.3));\n",
              "      fill: #FFFFFF;\n",
              "    }\n",
              "  </style>\n",
              "\n",
              "    <script>\n",
              "      const buttonEl =\n",
              "        document.querySelector('#df-701717e8-9ddd-4021-8387-916d42489448 button.colab-df-convert');\n",
              "      buttonEl.style.display =\n",
              "        google.colab.kernel.accessAllowed ? 'block' : 'none';\n",
              "\n",
              "      async function convertToInteractive(key) {\n",
              "        const element = document.querySelector('#df-701717e8-9ddd-4021-8387-916d42489448');\n",
              "        const dataTable =\n",
              "          await google.colab.kernel.invokeFunction('convertToInteractive',\n",
              "                                                    [key], {});\n",
              "        if (!dataTable) return;\n",
              "\n",
              "        const docLinkHtml = 'Like what you see? Visit the ' +\n",
              "          '<a target=\"_blank\" href=https://colab.research.google.com/notebooks/data_table.ipynb>data table notebook</a>'\n",
              "          + ' to learn more about interactive tables.';\n",
              "        element.innerHTML = '';\n",
              "        dataTable['output_type'] = 'display_data';\n",
              "        await google.colab.output.renderOutput(dataTable, element);\n",
              "        const docLink = document.createElement('div');\n",
              "        docLink.innerHTML = docLinkHtml;\n",
              "        element.appendChild(docLink);\n",
              "      }\n",
              "    </script>\n",
              "  </div>\n",
              "\n",
              "\n",
              "<div id=\"df-710b065c-a188-47e9-a648-66b326d2fdf2\">\n",
              "  <button class=\"colab-df-quickchart\" onclick=\"quickchart('df-710b065c-a188-47e9-a648-66b326d2fdf2')\"\n",
              "            title=\"Suggest charts.\"\n",
              "            style=\"display:none;\">\n",
              "\n",
              "<svg xmlns=\"http://www.w3.org/2000/svg\" height=\"24px\"viewBox=\"0 0 24 24\"\n",
              "     width=\"24px\">\n",
              "    <g>\n",
              "        <path d=\"M19 3H5c-1.1 0-2 .9-2 2v14c0 1.1.9 2 2 2h14c1.1 0 2-.9 2-2V5c0-1.1-.9-2-2-2zM9 17H7v-7h2v7zm4 0h-2V7h2v10zm4 0h-2v-4h2v4z\"/>\n",
              "    </g>\n",
              "</svg>\n",
              "  </button>\n",
              "\n",
              "<style>\n",
              "  .colab-df-quickchart {\n",
              "      --bg-color: #E8F0FE;\n",
              "      --fill-color: #1967D2;\n",
              "      --hover-bg-color: #E2EBFA;\n",
              "      --hover-fill-color: #174EA6;\n",
              "      --disabled-fill-color: #AAA;\n",
              "      --disabled-bg-color: #DDD;\n",
              "  }\n",
              "\n",
              "  [theme=dark] .colab-df-quickchart {\n",
              "      --bg-color: #3B4455;\n",
              "      --fill-color: #D2E3FC;\n",
              "      --hover-bg-color: #434B5C;\n",
              "      --hover-fill-color: #FFFFFF;\n",
              "      --disabled-bg-color: #3B4455;\n",
              "      --disabled-fill-color: #666;\n",
              "  }\n",
              "\n",
              "  .colab-df-quickchart {\n",
              "    background-color: var(--bg-color);\n",
              "    border: none;\n",
              "    border-radius: 50%;\n",
              "    cursor: pointer;\n",
              "    display: none;\n",
              "    fill: var(--fill-color);\n",
              "    height: 32px;\n",
              "    padding: 0;\n",
              "    width: 32px;\n",
              "  }\n",
              "\n",
              "  .colab-df-quickchart:hover {\n",
              "    background-color: var(--hover-bg-color);\n",
              "    box-shadow: 0 1px 2px rgba(60, 64, 67, 0.3), 0 1px 3px 1px rgba(60, 64, 67, 0.15);\n",
              "    fill: var(--button-hover-fill-color);\n",
              "  }\n",
              "\n",
              "  .colab-df-quickchart-complete:disabled,\n",
              "  .colab-df-quickchart-complete:disabled:hover {\n",
              "    background-color: var(--disabled-bg-color);\n",
              "    fill: var(--disabled-fill-color);\n",
              "    box-shadow: none;\n",
              "  }\n",
              "\n",
              "  .colab-df-spinner {\n",
              "    border: 2px solid var(--fill-color);\n",
              "    border-color: transparent;\n",
              "    border-bottom-color: var(--fill-color);\n",
              "    animation:\n",
              "      spin 1s steps(1) infinite;\n",
              "  }\n",
              "\n",
              "  @keyframes spin {\n",
              "    0% {\n",
              "      border-color: transparent;\n",
              "      border-bottom-color: var(--fill-color);\n",
              "      border-left-color: var(--fill-color);\n",
              "    }\n",
              "    20% {\n",
              "      border-color: transparent;\n",
              "      border-left-color: var(--fill-color);\n",
              "      border-top-color: var(--fill-color);\n",
              "    }\n",
              "    30% {\n",
              "      border-color: transparent;\n",
              "      border-left-color: var(--fill-color);\n",
              "      border-top-color: var(--fill-color);\n",
              "      border-right-color: var(--fill-color);\n",
              "    }\n",
              "    40% {\n",
              "      border-color: transparent;\n",
              "      border-right-color: var(--fill-color);\n",
              "      border-top-color: var(--fill-color);\n",
              "    }\n",
              "    60% {\n",
              "      border-color: transparent;\n",
              "      border-right-color: var(--fill-color);\n",
              "    }\n",
              "    80% {\n",
              "      border-color: transparent;\n",
              "      border-right-color: var(--fill-color);\n",
              "      border-bottom-color: var(--fill-color);\n",
              "    }\n",
              "    90% {\n",
              "      border-color: transparent;\n",
              "      border-bottom-color: var(--fill-color);\n",
              "    }\n",
              "  }\n",
              "</style>\n",
              "\n",
              "  <script>\n",
              "    async function quickchart(key) {\n",
              "      const quickchartButtonEl =\n",
              "        document.querySelector('#' + key + ' button');\n",
              "      quickchartButtonEl.disabled = true;  // To prevent multiple clicks.\n",
              "      quickchartButtonEl.classList.add('colab-df-spinner');\n",
              "      try {\n",
              "        const charts = await google.colab.kernel.invokeFunction(\n",
              "            'suggestCharts', [key], {});\n",
              "      } catch (error) {\n",
              "        console.error('Error during call to suggestCharts:', error);\n",
              "      }\n",
              "      quickchartButtonEl.classList.remove('colab-df-spinner');\n",
              "      quickchartButtonEl.classList.add('colab-df-quickchart-complete');\n",
              "    }\n",
              "    (() => {\n",
              "      let quickchartButtonEl =\n",
              "        document.querySelector('#df-710b065c-a188-47e9-a648-66b326d2fdf2 button');\n",
              "      quickchartButtonEl.style.display =\n",
              "        google.colab.kernel.accessAllowed ? 'block' : 'none';\n",
              "    })();\n",
              "  </script>\n",
              "</div>\n",
              "    </div>\n",
              "  </div>\n"
            ]
          },
          "metadata": {},
          "execution_count": 6
        }
      ]
    },
    {
      "cell_type": "code",
      "source": [
        "df.isnull().sum()"
      ],
      "metadata": {
        "colab": {
          "base_uri": "https://localhost:8080/"
        },
        "id": "1-tfpEfneMb_",
        "outputId": "18885794-8541-4f5d-aaa8-d9617b1f9bb1"
      },
      "execution_count": 7,
      "outputs": [
        {
          "output_type": "execute_result",
          "data": {
            "text/plain": [
              "Permit Number                                 0\n",
              "Permit Type                                   0\n",
              "Permit Type Definition                        0\n",
              "Permit Creation Date                          0\n",
              "Block                                         0\n",
              "Lot                                           0\n",
              "Street Number                                 0\n",
              "Street Number Suffix                      15204\n",
              "Street Name                                   0\n",
              "Street Suffix                               194\n",
              "Unit                                      13217\n",
              "Unit Suffix                               15185\n",
              "Description                                  25\n",
              "Current Status                                0\n",
              "Current Status Date                           0\n",
              "Filed Date                                    0\n",
              "Issued Date                                 635\n",
              "Completed Date                             6235\n",
              "First Construction Document Date            639\n",
              "Structural Notification                   14896\n",
              "Number of Existing Stories                 3189\n",
              "Number of Proposed Stories                 3386\n",
              "Voluntary Soft-Story Retrofit             15353\n",
              "Fire Only Permit                          13943\n",
              "Permit Expiration Date                     3460\n",
              "Estimated Cost                             2887\n",
              "Revised Cost                                247\n",
              "Existing Use                               3098\n",
              "Existing Units                             3917\n",
              "Proposed Use                               3333\n",
              "Proposed Units                             4018\n",
              "Plansets                                   2855\n",
              "TIDF Compliance                           15364\n",
              "Existing Construction Type                 3240\n",
              "Existing Construction Type Description     3240\n",
              "Proposed Construction Type                 3417\n",
              "Proposed Construction Type Description     3417\n",
              "Site Permit                               15068\n",
              "Supervisor District                         119\n",
              "Neighborhoods - Analysis Boundaries         119\n",
              "Zipcode                                     119\n",
              "Location                                    118\n",
              "Record ID                                     0\n",
              "dtype: int64"
            ]
          },
          "metadata": {},
          "execution_count": 7
        }
      ]
    },
    {
      "cell_type": "markdown",
      "source": [
        "# **Drop column with missing values greater than 15000**"
      ],
      "metadata": {
        "id": "X0D7Elmwi5PL"
      }
    },
    {
      "cell_type": "code",
      "source": [
        "threshold = 13000\n",
        "\n",
        "# Find columns with missing value rate higher than threshold\n",
        "cols_to_drop = df.columns[df.isnull().sum() > threshold]\n",
        "df2 = df.drop(columns=cols_to_drop)"
      ],
      "metadata": {
        "id": "CzrgAXjseXEG"
      },
      "execution_count": 8,
      "outputs": []
    },
    {
      "cell_type": "code",
      "source": [
        "df2.isnull().sum()"
      ],
      "metadata": {
        "colab": {
          "base_uri": "https://localhost:8080/"
        },
        "id": "4y0qFJ2zetP1",
        "outputId": "99677727-7a31-4d90-eb24-6ac48e55706f"
      },
      "execution_count": 9,
      "outputs": [
        {
          "output_type": "execute_result",
          "data": {
            "text/plain": [
              "Permit Number                                0\n",
              "Permit Type                                  0\n",
              "Permit Type Definition                       0\n",
              "Permit Creation Date                         0\n",
              "Block                                        0\n",
              "Lot                                          0\n",
              "Street Number                                0\n",
              "Street Name                                  0\n",
              "Street Suffix                              194\n",
              "Description                                 25\n",
              "Current Status                               0\n",
              "Current Status Date                          0\n",
              "Filed Date                                   0\n",
              "Issued Date                                635\n",
              "Completed Date                            6235\n",
              "First Construction Document Date           639\n",
              "Number of Existing Stories                3189\n",
              "Number of Proposed Stories                3386\n",
              "Permit Expiration Date                    3460\n",
              "Estimated Cost                            2887\n",
              "Revised Cost                               247\n",
              "Existing Use                              3098\n",
              "Existing Units                            3917\n",
              "Proposed Use                              3333\n",
              "Proposed Units                            4018\n",
              "Plansets                                  2855\n",
              "Existing Construction Type                3240\n",
              "Existing Construction Type Description    3240\n",
              "Proposed Construction Type                3417\n",
              "Proposed Construction Type Description    3417\n",
              "Supervisor District                        119\n",
              "Neighborhoods - Analysis Boundaries        119\n",
              "Zipcode                                    119\n",
              "Location                                   118\n",
              "Record ID                                    0\n",
              "dtype: int64"
            ]
          },
          "metadata": {},
          "execution_count": 9
        }
      ]
    },
    {
      "cell_type": "markdown",
      "source": [
        "# **Fill street suffix with previous values**"
      ],
      "metadata": {
        "id": "d0g1ZaMniwwd"
      }
    },
    {
      "cell_type": "code",
      "source": [
        "df2['Street Suffix'] = df2['Street Suffix'].fillna(method='pad')"
      ],
      "metadata": {
        "id": "0t282dFFmTOf"
      },
      "execution_count": 10,
      "outputs": []
    },
    {
      "cell_type": "code",
      "source": [
        "df2.isnull().sum()"
      ],
      "metadata": {
        "colab": {
          "base_uri": "https://localhost:8080/"
        },
        "id": "-LYb3xDuoYP9",
        "outputId": "6bee22b7-f790-4f53-9af3-bb8aaa02a945"
      },
      "execution_count": 11,
      "outputs": [
        {
          "output_type": "execute_result",
          "data": {
            "text/plain": [
              "Permit Number                                0\n",
              "Permit Type                                  0\n",
              "Permit Type Definition                       0\n",
              "Permit Creation Date                         0\n",
              "Block                                        0\n",
              "Lot                                          0\n",
              "Street Number                                0\n",
              "Street Name                                  0\n",
              "Street Suffix                                0\n",
              "Description                                 25\n",
              "Current Status                               0\n",
              "Current Status Date                          0\n",
              "Filed Date                                   0\n",
              "Issued Date                                635\n",
              "Completed Date                            6235\n",
              "First Construction Document Date           639\n",
              "Number of Existing Stories                3189\n",
              "Number of Proposed Stories                3386\n",
              "Permit Expiration Date                    3460\n",
              "Estimated Cost                            2887\n",
              "Revised Cost                               247\n",
              "Existing Use                              3098\n",
              "Existing Units                            3917\n",
              "Proposed Use                              3333\n",
              "Proposed Units                            4018\n",
              "Plansets                                  2855\n",
              "Existing Construction Type                3240\n",
              "Existing Construction Type Description    3240\n",
              "Proposed Construction Type                3417\n",
              "Proposed Construction Type Description    3417\n",
              "Supervisor District                        119\n",
              "Neighborhoods - Analysis Boundaries        119\n",
              "Zipcode                                    119\n",
              "Location                                   118\n",
              "Record ID                                    0\n",
              "dtype: int64"
            ]
          },
          "metadata": {},
          "execution_count": 11
        }
      ]
    },
    {
      "cell_type": "code",
      "source": [
        "df2['Description'] = df2['Description'].fillna('No description available for this product')"
      ],
      "metadata": {
        "id": "Xy2IjwTQpXbb"
      },
      "execution_count": 12,
      "outputs": []
    },
    {
      "cell_type": "markdown",
      "source": [
        "# **Fill the revised cost with the Mean**"
      ],
      "metadata": {
        "id": "UBb69C3nroXr"
      }
    },
    {
      "cell_type": "code",
      "source": [
        "df2[\"Revised Cost\"].fillna( df2[\"Revised Cost\"].mean(), inplace=True)"
      ],
      "metadata": {
        "id": "eg7DVzbXr81o"
      },
      "execution_count": 13,
      "outputs": []
    },
    {
      "cell_type": "code",
      "source": [
        "df2[\"Estimated Cost\"].fillna( df2[\"Estimated Cost\"].mean(), inplace=True)"
      ],
      "metadata": {
        "id": "zn3i8STMynAG"
      },
      "execution_count": 14,
      "outputs": []
    },
    {
      "cell_type": "code",
      "source": [
        "df2.shape"
      ],
      "metadata": {
        "colab": {
          "base_uri": "https://localhost:8080/"
        },
        "id": "0EmlQdpgtGrY",
        "outputId": "ec85e273-4c38-4662-df50-d80b99daa25a"
      },
      "execution_count": 15,
      "outputs": [
        {
          "output_type": "execute_result",
          "data": {
            "text/plain": [
              "(15364, 35)"
            ]
          },
          "metadata": {},
          "execution_count": 15
        }
      ]
    },
    {
      "cell_type": "markdown",
      "source": [
        "# **Fill location, zipcode, Neighborhoods - Analysis Boundaries , Supervisor District  with the values after them**"
      ],
      "metadata": {
        "id": "R4VCx_oDtWKE"
      }
    },
    {
      "cell_type": "code",
      "source": [
        "columns_to_fill = [\"Location\", \"Zipcode\", \"Neighborhoods - Analysis Boundaries\", \"Supervisor District\"]\n",
        "\n",
        "for column in columns_to_fill:\n",
        "    df2[column] = df2[column].bfill()"
      ],
      "metadata": {
        "id": "6isPwon5tVzc"
      },
      "execution_count": 16,
      "outputs": []
    },
    {
      "cell_type": "markdown",
      "source": [
        "# **Fill contruction type and description with values**"
      ],
      "metadata": {
        "id": "QpBErDb2vZm1"
      }
    },
    {
      "cell_type": "code",
      "source": [
        "fill_values = {\n",
        "    'Existing Construction Type': 0 ,\n",
        "    'Existing Construction Type Description': 'No Description for this construction type',\n",
        "    'Proposed Construction Type': 0,\n",
        "    'Proposed Construction Type Description': 'No Description for this construction type',\n",
        "}\n",
        "\n",
        "df2.fillna(fill_values, inplace=True)"
      ],
      "metadata": {
        "id": "E_wv6yQMvvAS"
      },
      "execution_count": 17,
      "outputs": []
    },
    {
      "cell_type": "code",
      "source": [
        "df2.isnull().sum()"
      ],
      "metadata": {
        "colab": {
          "base_uri": "https://localhost:8080/"
        },
        "id": "YzdZLfvpwSG3",
        "outputId": "7941cc16-ec70-410f-f41e-2f7c71b9eefb"
      },
      "execution_count": 18,
      "outputs": [
        {
          "output_type": "execute_result",
          "data": {
            "text/plain": [
              "Permit Number                                0\n",
              "Permit Type                                  0\n",
              "Permit Type Definition                       0\n",
              "Permit Creation Date                         0\n",
              "Block                                        0\n",
              "Lot                                          0\n",
              "Street Number                                0\n",
              "Street Name                                  0\n",
              "Street Suffix                                0\n",
              "Description                                  0\n",
              "Current Status                               0\n",
              "Current Status Date                          0\n",
              "Filed Date                                   0\n",
              "Issued Date                                635\n",
              "Completed Date                            6235\n",
              "First Construction Document Date           639\n",
              "Number of Existing Stories                3189\n",
              "Number of Proposed Stories                3386\n",
              "Permit Expiration Date                    3460\n",
              "Estimated Cost                               0\n",
              "Revised Cost                                 0\n",
              "Existing Use                              3098\n",
              "Existing Units                            3917\n",
              "Proposed Use                              3333\n",
              "Proposed Units                            4018\n",
              "Plansets                                  2855\n",
              "Existing Construction Type                   0\n",
              "Existing Construction Type Description       0\n",
              "Proposed Construction Type                   0\n",
              "Proposed Construction Type Description       0\n",
              "Supervisor District                          0\n",
              "Neighborhoods - Analysis Boundaries          0\n",
              "Zipcode                                      0\n",
              "Location                                     0\n",
              "Record ID                                    0\n",
              "dtype: int64"
            ]
          },
          "metadata": {},
          "execution_count": 18
        }
      ]
    },
    {
      "cell_type": "markdown",
      "source": [
        "# **Fill missing Completion Date with the highest date and missing Issue Date with the lowest date**\n"
      ],
      "metadata": {
        "id": "oelxrkn02-Ku"
      }
    },
    {
      "cell_type": "code",
      "source": [
        "# Fill missing Completion Date with the highest date\n",
        "df2['Completed Date'] = pd.to_datetime(df2['Completed Date'], errors='coerce')  # Convert to datetime\n",
        "max_completion_date = df2['Completed Date'].max()  # Find the highest date\n",
        "df2['Completed Date'].fillna(max_completion_date, inplace=True)  # Fill missing values\n",
        "\n",
        "# Fill missing Issue Date with the lowest date\n",
        "df2['Issued Date'] = pd.to_datetime(df2['Issued Date'], errors='coerce')  # Convert to datetime\n",
        "min_issue_date = df2['Issued Date'].min()  # Find the lowest date\n",
        "df2['Issued Date'].fillna(min_issue_date, inplace=True)"
      ],
      "metadata": {
        "id": "UnuB7ifEzwTZ"
      },
      "execution_count": 19,
      "outputs": []
    },
    {
      "cell_type": "markdown",
      "source": [
        "Fill missing"
      ],
      "metadata": {
        "id": "5iccSO5g3QIQ"
      }
    },
    {
      "cell_type": "code",
      "source": [
        "# Fill missing Completion Date with the highest date\n",
        "df2['Permit Expiration Date'] = pd.to_datetime(df2['Permit Expiration Date'], errors='coerce')  # Convert to datetime\n",
        "max_completion_date = df2['Permit Expiration Date'].max()  # Find the highest date\n",
        "df2['Permit Expiration Date'].fillna(max_completion_date, inplace=True)  # Fill missing values"
      ],
      "metadata": {
        "id": "o59dNPZd0gC2"
      },
      "execution_count": 20,
      "outputs": []
    },
    {
      "cell_type": "markdown",
      "source": [],
      "metadata": {
        "id": "4iY4qzXr4Yj0"
      }
    },
    {
      "cell_type": "code",
      "source": [
        "\n",
        "# Fill missing Completion Date with the highest date\n",
        "df2['First Construction Document Date'] = pd.to_datetime(df2['First Construction Document Date'], errors='coerce')  # Convert to datetime\n",
        "max_completion_date = df2['First Construction Document Date'].max()  # Find the highest date\n",
        "df2['First Construction Document Date'].fillna(max_completion_date, inplace=True)  # Fill missing values"
      ],
      "metadata": {
        "id": "_C821jOc4dxA"
      },
      "execution_count": 21,
      "outputs": []
    },
    {
      "cell_type": "code",
      "source": [
        "# Calculate the mean of the \"Number of Existing Stories\" column as an integer\n",
        "mean_existing_stories = int(df['Number of Existing Stories'].mean())\n",
        "\n",
        "# Fill missing values with the mean as an integer\n",
        "df2['Number of Existing Stories'].fillna(mean_existing_stories, inplace=True)"
      ],
      "metadata": {
        "id": "JxjbQve35zEv"
      },
      "execution_count": 22,
      "outputs": []
    },
    {
      "cell_type": "code",
      "source": [
        "df2['Number of Proposed Stories'].fillna(0, inplace=True)"
      ],
      "metadata": {
        "id": "cBW_ohlx8k0D"
      },
      "execution_count": 23,
      "outputs": []
    },
    {
      "cell_type": "code",
      "source": [
        "df2['Proposed Units'].fillna(0, inplace=True)"
      ],
      "metadata": {
        "id": "TRWQpPI09Rk8"
      },
      "execution_count": 24,
      "outputs": []
    },
    {
      "cell_type": "code",
      "source": [
        "df2['Existing Units'].fillna(0, inplace=True)"
      ],
      "metadata": {
        "id": "H5nZJ0nM9W-6"
      },
      "execution_count": 25,
      "outputs": []
    },
    {
      "cell_type": "code",
      "source": [
        "df2['Plansets'].fillna(0, inplace=True)"
      ],
      "metadata": {
        "id": "E0Z-1VKj-fEG"
      },
      "execution_count": 26,
      "outputs": []
    },
    {
      "cell_type": "code",
      "source": [
        "\n",
        "df2['Existing Use'].fillna(\"No Existing Use yet\", inplace=True)"
      ],
      "metadata": {
        "id": "pRUdKvuh-y8y"
      },
      "execution_count": 27,
      "outputs": []
    },
    {
      "cell_type": "code",
      "source": [
        "df2['Proposed Use'].fillna(\"No Proposed Use yet\", inplace=True)"
      ],
      "metadata": {
        "id": "lbfM8M47_Fv7"
      },
      "execution_count": 28,
      "outputs": []
    },
    {
      "cell_type": "code",
      "source": [],
      "metadata": {
        "id": "QaJmbPm4CSvx"
      },
      "execution_count": null,
      "outputs": []
    },
    {
      "cell_type": "code",
      "source": [
        "excel_file = \"construction2.xlsx\"\n",
        "df2.to_excel(excel_file, index=False)\n",
        "\n",
        "print(f\"DataFrame has been exported to {excel_file}\")"
      ],
      "metadata": {
        "colab": {
          "base_uri": "https://localhost:8080/"
        },
        "id": "RhzPD9yFxB-6",
        "outputId": "52c71048-5a4f-4b6a-8d17-94cf525a5ed2"
      },
      "execution_count": 29,
      "outputs": [
        {
          "output_type": "stream",
          "name": "stdout",
          "text": [
            "DataFrame has been exported to construction2.xlsx\n"
          ]
        }
      ]
    }
  ]
}